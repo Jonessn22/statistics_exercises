{
 "cells": [
  {
   "cell_type": "markdown",
   "id": "935acb52",
   "metadata": {},
   "source": [
    "# probability_distributions_notes"
   ]
  },
  {
   "cell_type": "markdown",
   "id": "aee0bb43",
   "metadata": {},
   "source": [
    "Probability distributions are math functions we can use to model real world processes. The distributions give us the probabilities of different experiment outcomes. "
   ]
  },
  {
   "cell_type": "code",
   "execution_count": 2,
   "id": "26fcc597",
   "metadata": {},
   "outputs": [],
   "source": [
    "import matplotlib.pyplot as plt\n",
    "import numpy as np\n",
    "from scipy import stats\n",
    "import viz\n",
    "\n",
    "np.random.seed(123)"
   ]
  },
  {
   "cell_type": "markdown",
   "id": "6397225f",
   "metadata": {},
   "source": [
    "## Steps\n",
    "1. Consider the situation and determine the appropriate distribution type.\n",
    "2. Create a distribution object using the stats module from scipy. \n",
    "3. Consider what information you have and what information you need.\n",
    "4. Determine what SciPy distribution method you will need to call to get what you need."
   ]
  },
  {
   "cell_type": "markdown",
   "id": "3c49e1e1",
   "metadata": {},
   "source": [
    "# Types of Distributions\n",
    "## Uniform Distribution\n",
    "Used to model events where each outcome has an equally likely chance of happening and the outcome is <b>discrete</b> \n",
    "        \n",
    "<b>stats.randint( start, stop +1 ) </b><br>\n",
    "distribution.rvs(  ) <---generates random number from distribution<br>\n",
    "distribution.rvs( C ) <----generates 1D array of numbers with xL columns from distribution<br>\n",
    "distribution.rvs( R, C ) <----generates 2D array of numbers with xR rows and xC columns from distribution\n",
    "## Binomial Distribution\n",
    "Used to model the number of successes after a number of trials, when there are only two possible outcomes, given the probability of success (assuming each trial is <b>independent</b> of the others.\n",
    "\n",
    "- number of trials (n)\n",
    "- probability of success (p)\n",
    "- number of successes in trials (X)\n",
    "\n",
    "<b>stats.binom( n, p )</b>\n",
    "## Poisson Distribution\n",
    "Used to model a certain number of events occuring over a given time interval. The number of events occuring is a <b>discrete variable</b>.\n",
    "\n",
    "- rate $\\lambda$\n",
    "- number of events per unit of time (X)\n",
    "\n",
    "<b>stats.poisson( $\\lambda$ )</b>\n",
    "## Normal Distribution\n",
    "Used to model a <b>continuous random variable</b> where, the further away from the mean you are, the less likely the outcome.\n",
    "\n",
    "- mean $\\mu$\n",
    "- std dev $\\sigma$\n",
    "\n",
    "<b>stats.norm( $\\mu$, $\\sigma$ )</b>\n",
    "\n"
   ]
  },
  {
   "cell_type": "markdown",
   "id": "e77bbe3a",
   "metadata": {},
   "source": [
    "# Distribution Method\n",
    "\n",
    "Probability of a random variable takes on a given value:\n",
    "- pdf: continuous distributions\n",
    "- pmf: discrete distributions\n",
    "\n",
    "Probability our random variable takes on a value less than or equal to a given point <b><i>percentile</i></b>\n",
    "- cdf: Given (value) -----> find (probability)\n",
    "- ppf: Given (probability) -----> find (value)\n",
    "\n",
    "Probability our random variable takes on a value greater than a given point\n",
    "- sf: Given (value) -----> find (probability)\n",
    "- isf: Given (probability) -----> find (value)"
   ]
  },
  {
   "cell_type": "code",
   "execution_count": null,
   "id": "430091fe",
   "metadata": {},
   "outputs": [],
   "source": []
  },
  {
   "cell_type": "code",
   "execution_count": null,
   "id": "4ad3c603",
   "metadata": {},
   "outputs": [],
   "source": []
  }
 ],
 "metadata": {
  "kernelspec": {
   "display_name": "Python 3",
   "language": "python",
   "name": "python3"
  },
  "language_info": {
   "codemirror_mode": {
    "name": "ipython",
    "version": 3
   },
   "file_extension": ".py",
   "mimetype": "text/x-python",
   "name": "python",
   "nbconvert_exporter": "python",
   "pygments_lexer": "ipython3",
   "version": "3.8.8"
  }
 },
 "nbformat": 4,
 "nbformat_minor": 5
}
