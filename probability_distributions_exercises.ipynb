{
 "cells": [
  {
   "cell_type": "markdown",
   "id": "5519ca03",
   "metadata": {},
   "source": [
    "# probability_distributions_exercises"
   ]
  },
  {
   "cell_type": "markdown",
   "id": "2568e1f8",
   "metadata": {},
   "source": [
    "For the following problems, use python to simulate the problem and calculate an experimental probability, then compare that to the theoretical probability."
   ]
  },
  {
   "cell_type": "code",
   "execution_count": 1,
   "id": "98c92ec2",
   "metadata": {},
   "outputs": [],
   "source": [
    "import matplotlib.pyplot as plt\n",
    "import numpy as np\n",
    "from scipy import stats\n",
    "import viz\n",
    "\n",
    "np.random.seed(123)"
   ]
  },
  {
   "cell_type": "markdown",
   "id": "f1004b40",
   "metadata": {},
   "source": [
    "## 1. A bank found that the average number of cars waiting during the noon hour at a drive-up window follows a Poisson distribution with a mean of 2 cars. Make a chart of this distribution and answer these questions concerning the probability of cars waiting at the drive-up window. "
   ]
  },
  {
   "cell_type": "markdown",
   "id": "95ccdd71",
   "metadata": {},
   "source": [
    "### 1a. \n",
    "What is the probability that no cars drive up in the noon hour?"
   ]
  },
  {
   "cell_type": "code",
   "execution_count": 62,
   "id": "4e646515",
   "metadata": {},
   "outputs": [
    {
     "ename": "AttributeError",
     "evalue": "module 'numpy' has no attribute 'arrange'",
     "output_type": "error",
     "traceback": [
      "\u001b[0;31m---------------------------------------------------------------------------\u001b[0m",
      "\u001b[0;31mAttributeError\u001b[0m                            Traceback (most recent call last)",
      "\u001b[0;32m<ipython-input-62-1c87e648fb07>\u001b[0m in \u001b[0;36m<module>\u001b[0;34m\u001b[0m\n\u001b[1;32m      3\u001b[0m \u001b[0mlam\u001b[0m \u001b[0;34m=\u001b[0m \u001b[0;36m2\u001b[0m\u001b[0;34m\u001b[0m\u001b[0;34m\u001b[0m\u001b[0m\n\u001b[1;32m      4\u001b[0m \u001b[0;34m\u001b[0m\u001b[0m\n\u001b[0;32m----> 5\u001b[0;31m \u001b[0mx\u001b[0m \u001b[0;34m=\u001b[0m \u001b[0mnp\u001b[0m\u001b[0;34m.\u001b[0m\u001b[0marrange\u001b[0m\u001b[0;34m(\u001b[0m\u001b[0;36m0\u001b[0m\u001b[0;34m,\u001b[0m \u001b[0;36m12\u001b[0m\u001b[0;34m)\u001b[0m \u001b[0;31m#range from 0 - 12\u001b[0m\u001b[0;34m\u001b[0m\u001b[0;34m\u001b[0m\u001b[0m\n\u001b[0m\u001b[1;32m      6\u001b[0m \u001b[0my\u001b[0m \u001b[0;34m=\u001b[0m \u001b[0mdrive_up_distr\u001b[0m\u001b[0;34m.\u001b[0m\u001b[0mpmf\u001b[0m\u001b[0;34m(\u001b[0m\u001b[0;36m0\u001b[0m\u001b[0;34m)\u001b[0m \u001b[0;31m#distribution object\u001b[0m\u001b[0;34m\u001b[0m\u001b[0;34m\u001b[0m\u001b[0m\n",
      "\u001b[0;32m/usr/local/anaconda3/lib/python3.8/site-packages/numpy/__init__.py\u001b[0m in \u001b[0;36m__getattr__\u001b[0;34m(attr)\u001b[0m\n\u001b[1;32m    301\u001b[0m                 \u001b[0;32mreturn\u001b[0m \u001b[0mTester\u001b[0m\u001b[0;34m\u001b[0m\u001b[0;34m\u001b[0m\u001b[0m\n\u001b[1;32m    302\u001b[0m \u001b[0;34m\u001b[0m\u001b[0m\n\u001b[0;32m--> 303\u001b[0;31m             raise AttributeError(\"module {!r} has no attribute \"\n\u001b[0m\u001b[1;32m    304\u001b[0m                                  \"{!r}\".format(__name__, attr))\n\u001b[1;32m    305\u001b[0m \u001b[0;34m\u001b[0m\u001b[0m\n",
      "\u001b[0;31mAttributeError\u001b[0m: module 'numpy' has no attribute 'arrange'"
     ]
    }
   ],
   "source": [
    "#chart\n",
    "\n",
    "lam = 2\n",
    "\n",
    "x = np.arrange(0, 12) #range from 0 - 12\n",
    "y = drive_up_distr.pmf(0) #distribution object"
   ]
  },
  {
   "cell_type": "code",
   "execution_count": 12,
   "id": "b93d0f94",
   "metadata": {},
   "outputs": [
    {
     "data": {
      "text/plain": [
       "0.1353352832366127"
      ]
     },
     "execution_count": 12,
     "metadata": {},
     "output_type": "execute_result"
    }
   ],
   "source": [
    "#Poisson distribution\n",
    "    # lambda = 2 \n",
    "\n",
    "drive_up_distr = stats.poisson(2) #distribution object\n",
    "\n",
    "drive_up_distr.pmf(0) #to find the probability of 0 cars during the given time interval"
   ]
  },
  {
   "cell_type": "markdown",
   "id": "a768b030",
   "metadata": {},
   "source": [
    "### 1b. \n",
    "What is the probability that 3 or more cars come through the drive through?"
   ]
  },
  {
   "cell_type": "code",
   "execution_count": 11,
   "id": "ccf9bb6b",
   "metadata": {},
   "outputs": [
    {
     "data": {
      "text/plain": [
       "0.32332358381693654"
      ]
     },
     "execution_count": 11,
     "metadata": {},
     "output_type": "execute_result"
    }
   ],
   "source": [
    "drive_up_distr.sf(2) #to find the probability of 3 or more cars, used 2 so 3 would be included"
   ]
  },
  {
   "cell_type": "markdown",
   "id": "da4dad83",
   "metadata": {},
   "source": [
    "### 1c.\n",
    "How likely is it that the drive through gets at least 1 car?"
   ]
  },
  {
   "cell_type": "code",
   "execution_count": 16,
   "id": "6a117d6a",
   "metadata": {},
   "outputs": [
    {
     "data": {
      "text/plain": [
       "0.8646647167633873"
      ]
     },
     "execution_count": 16,
     "metadata": {},
     "output_type": "execute_result"
    }
   ],
   "source": [
    "drive_up_distr.sf(0) #to find the probability of 1 or more cars, used 0 so 1 would be included"
   ]
  },
  {
   "cell_type": "markdown",
   "id": "f0293361",
   "metadata": {},
   "source": [
    "## 2.Grades of State University graduates are normally distributed with a mean of 3.0 and a standard deviation of .3. Calculate the following:"
   ]
  },
  {
   "cell_type": "markdown",
   "id": "15df3812",
   "metadata": {},
   "source": [
    "### 2a. \n",
    "What grade point average is required to be in the top 5% of the graduating class?"
   ]
  },
  {
   "cell_type": "code",
   "execution_count": 67,
   "id": "476e7d00",
   "metadata": {},
   "outputs": [
    {
     "data": {
      "text/plain": [
       "3.4934560880854417"
      ]
     },
     "execution_count": 67,
     "metadata": {},
     "output_type": "execute_result"
    }
   ],
   "source": [
    "#Normal distribution\n",
    "    #mean = 3\n",
    "    #std dev = .3\n",
    "\n",
    "gpa_distr = stats.norm(3.0, 0.3) #to create the distribution object\n",
    "\n",
    "gpa_distr.isf(.05) #to find the value for the top 5% of greater, used 4% so 5 would be included"
   ]
  },
  {
   "cell_type": "markdown",
   "id": "9948da62",
   "metadata": {},
   "source": [
    "### 2b. \n",
    "What GPA constitutes the bottom 15% of the class?"
   ]
  },
  {
   "cell_type": "code",
   "execution_count": 29,
   "id": "c850cdcc",
   "metadata": {},
   "outputs": [
    {
     "data": {
      "text/plain": [
       "2.689069983151863"
      ]
     },
     "execution_count": 29,
     "metadata": {},
     "output_type": "execute_result"
    }
   ],
   "source": [
    "gpa_distr.ppf(.15) #to find the value for the bottom 15%"
   ]
  },
  {
   "cell_type": "markdown",
   "id": "0f7c33c3",
   "metadata": {},
   "source": [
    "### 2c.\n",
    "An eccentric alumnus left scholarship money for students in the third decile from the bottom of their class. Determine the range of the third decile. Would a student with a 2.8 grade point average qualify for this scholarship?"
   ]
  },
  {
   "cell_type": "code",
   "execution_count": 68,
   "id": "bf8c7adc",
   "metadata": {},
   "outputs": [
    {
     "data": {
      "text/plain": [
       "array([2.74751363, 2.84267985])"
      ]
     },
     "execution_count": 68,
     "metadata": {},
     "output_type": "execute_result"
    }
   ],
   "source": [
    "#3rd decile from the bottom = bottom 30%\n",
    "\n",
    "gpa_distr.ppf([.2, .3]) # range: 0 - 2.84, YES 2.8 falls within that that range!"
   ]
  },
  {
   "cell_type": "markdown",
   "id": "a87c8b8e",
   "metadata": {},
   "source": [
    "- 3rd decile: bottom 20% - 30%"
   ]
  },
  {
   "cell_type": "markdown",
   "id": "80a75c4b",
   "metadata": {},
   "source": [
    "### 2d. \n",
    "If I have a GPA of 3.5, what percentile am I in?"
   ]
  },
  {
   "cell_type": "code",
   "execution_count": 33,
   "id": "c40d7d00",
   "metadata": {},
   "outputs": [
    {
     "data": {
      "text/plain": [
       "0.9522096477271853"
      ]
     },
     "execution_count": 33,
     "metadata": {},
     "output_type": "execute_result"
    }
   ],
   "source": [
    "gpa_distr.cdf(3.5) #95th percentile"
   ]
  },
  {
   "cell_type": "markdown",
   "id": "322f54f6",
   "metadata": {},
   "source": [
    "## 3. A marketing website has an average click-through rate of 2%. One day they observe 4326 visitors and 97 click-throughs. How likely is it that this many people or more click through?"
   ]
  },
  {
   "cell_type": "code",
   "execution_count": 39,
   "id": "42d4cc03",
   "metadata": {},
   "outputs": [
    {
     "data": {
      "text/plain": [
       "0.1397582363130086"
      ]
     },
     "execution_count": 39,
     "metadata": {},
     "output_type": "execute_result"
    }
   ],
   "source": [
    "#Binomial distribution\n",
    "    #success = click\n",
    "    #probability of success (p) = .02\n",
    "    #number of trials (n) = 4326\n",
    "\n",
    "click_distr = stats.binom(4326, .02) #to create the distribution object\n",
    "\n",
    "click_distr.sf(96) #to find probability of 97 or more clicks, used 96 so 97 would be included"
   ]
  },
  {
   "cell_type": "markdown",
   "id": "1fd27598",
   "metadata": {},
   "source": [
    "## 4. You are working on some statistics homework consisting of 100 questions where all of the answers are a probability rounded to the hundreths place. Looking to save time, you put down random probabilities as the answer to each question.\n",
    "- What is the probability that at least one of your first 60 answers is correct?"
   ]
  },
  {
   "cell_type": "code",
   "execution_count": 69,
   "id": "338d5365",
   "metadata": {},
   "outputs": [
    {
     "data": {
      "text/plain": [
       "0.4528433576092388"
      ]
     },
     "execution_count": 69,
     "metadata": {},
     "output_type": "execute_result"
    }
   ],
   "source": [
    "#Binomial distribution\n",
    "    #success = correct answer\n",
    "    #probability of success (p) = 1/100\n",
    "    #number of trials (n) = 60 \n",
    "\n",
    "homework_distr = stats.binom(60, .01) #creating the distribution object\n",
    "\n",
    "homework_distr.sf(0) #to find the probability of 1 or more, used 0 so 1 would be included"
   ]
  },
  {
   "cell_type": "markdown",
   "id": "31d70f00",
   "metadata": {},
   "source": [
    "## 5. The codeup staff tends to get upset when the student break area is not cleaned up. Suppose that there's a 3% chance that any one student cleans the break area when they visit it, and, on any given day, about 90% of the 3 active cohorts of 22 students visit the break area. How likely is it that the break area gets cleaned up each day? How likely is it that it goes two days without getting cleaned up? All week?"
   ]
  },
  {
   "cell_type": "code",
   "execution_count": 56,
   "id": "c4e7a574",
   "metadata": {},
   "outputs": [
    {
     "data": {
      "text/plain": [
       "0.023485740357535874"
      ]
     },
     "execution_count": 56,
     "metadata": {},
     "output_type": "execute_result"
    }
   ],
   "source": [
    "#Binomial distribution\n",
    "    #Success = student cleans break area when they visit\n",
    "    #Number of trials (n) = 59 (rounded)\n",
    "        #(3 * 22) * .9 = 59.4\n",
    "    #Probability of success (p) = .03\n",
    "    \n",
    "cleanup_distr = stats.binom(59, .03) #creating the distribution object\n",
    "\n",
    "cleanup_distr.pmf(5) #to finding the probability of 5 days cleaned up"
   ]
  },
  {
   "cell_type": "code",
   "execution_count": 55,
   "id": "c42ca105",
   "metadata": {},
   "outputs": [
    {
     "data": {
      "text/plain": [
       "0.15943530376915885"
      ]
     },
     "execution_count": 55,
     "metadata": {},
     "output_type": "execute_result"
    }
   ],
   "source": [
    "cleanup_distr.pmf(3) #to find probability of it going 2 days without being cleaned, or being cleaned 3 days"
   ]
  },
  {
   "cell_type": "code",
   "execution_count": 57,
   "id": "9faff3c2",
   "metadata": {},
   "outputs": [
    {
     "data": {
      "text/plain": [
       "0.16578007115626484"
      ]
     },
     "execution_count": 57,
     "metadata": {},
     "output_type": "execute_result"
    }
   ],
   "source": [
    "cleanup_distr.pmf(0) #to find the probability of it going all week without being cleaned, or 0 days being cleaned"
   ]
  },
  {
   "cell_type": "markdown",
   "id": "8d4e6d4f",
   "metadata": {},
   "source": [
    "## 6. You want to get lunch at La Panaderia, but notice that the line is usually very long at lunchtime. After several weeks of careful observation, you notice that the average number of people in line when your lunch break starts is normally distributed with a mean of 15 and standard deviation of 3. If it takes 2 minutes for each person to order, and 10 minutes from ordering to getting your food, what is the likelihood that you have at least 15 minutes left to eat your food before you have to go back to class? Assume you have one hour for lunch, and ignore travel time to and from La Panaderia."
   ]
  },
  {
   "cell_type": "code",
   "execution_count": 74,
   "id": "2c3fa16e",
   "metadata": {},
   "outputs": [
    {
     "data": {
      "text/plain": [
       "0.6914624612740131"
      ]
     },
     "execution_count": 74,
     "metadata": {},
     "output_type": "execute_result"
    }
   ],
   "source": [
    "#Normal distribution\n",
    "    #mean = 15 people x 2 minutes ---> 30 minutes\n",
    "    #std dev = 3 people x 2 minutes ---> 6 minutes\n",
    "#60 minutes - 15 minutes (time left) - 2 (my order time) - 10 (time it takes to get my food)\n",
    "    \n",
    "    \n",
    "μ = 30\n",
    "σ = 6\n",
    "\n",
    "stats.norm(μ, σ).cdf(33) #probability of 25 minutes or more, using 24 so inclusive\n"
   ]
  },
  {
   "cell_type": "markdown",
   "id": "7a267a96",
   "metadata": {},
   "source": [
    "### 7. "
   ]
  },
  {
   "cell_type": "code",
   "execution_count": 77,
   "id": "0939fc1f",
   "metadata": {},
   "outputs": [
    {
     "ename": "ModuleNotFoundError",
     "evalue": "No module named 'env'",
     "output_type": "error",
     "traceback": [
      "\u001b[0;31m---------------------------------------------------------------------------\u001b[0m",
      "\u001b[0;31mModuleNotFoundError\u001b[0m                       Traceback (most recent call last)",
      "\u001b[0;32m<ipython-input-77-b2d1a7a1de60>\u001b[0m in \u001b[0;36m<module>\u001b[0;34m\u001b[0m\n\u001b[0;32m----> 1\u001b[0;31m \u001b[0;32mimport\u001b[0m \u001b[0menv\u001b[0m\u001b[0;34m\u001b[0m\u001b[0;34m\u001b[0m\u001b[0m\n\u001b[0m\u001b[1;32m      2\u001b[0m \u001b[0;34m\u001b[0m\u001b[0m\n\u001b[1;32m      3\u001b[0m \u001b[0murl\u001b[0m \u001b[0;34m=\u001b[0m \u001b[0;34mf'mysql+pymysql://{env.user}:{env.password}@{env.host}/employees'\u001b[0m\u001b[0;34m\u001b[0m\u001b[0;34m\u001b[0m\u001b[0m\n",
      "\u001b[0;31mModuleNotFoundError\u001b[0m: No module named 'env'"
     ]
    }
   ],
   "source": [
    "import env\n",
    "\n",
    "url = f'mysql+pymysql://{env.user}:{env.password}@{env.host}/employees'"
   ]
  },
  {
   "cell_type": "code",
   "execution_count": null,
   "id": "7044c804",
   "metadata": {},
   "outputs": [],
   "source": []
  }
 ],
 "metadata": {
  "kernelspec": {
   "display_name": "Python 3",
   "language": "python",
   "name": "python3"
  },
  "language_info": {
   "codemirror_mode": {
    "name": "ipython",
    "version": 3
   },
   "file_extension": ".py",
   "mimetype": "text/x-python",
   "name": "python",
   "nbconvert_exporter": "python",
   "pygments_lexer": "ipython3",
   "version": "3.8.8"
  }
 },
 "nbformat": 4,
 "nbformat_minor": 5
}
