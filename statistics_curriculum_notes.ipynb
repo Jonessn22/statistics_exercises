{
 "cells": [
  {
   "cell_type": "markdown",
   "id": "32d1cf52",
   "metadata": {},
   "source": [
    "# statistics_curriculum_notes\n",
    "<b>Descriptive Statistics</b> lets us <i>describe</i> a set of data.<br>\n",
    "The measures discussed focus on a single variable only and do not measure multiple variables at the same time or the interaction/relationship between variables.\n",
    "### Measures of Central Tendency\n",
    "Allow us to describe where the middle, or most mass, of a data set is. \n",
    "- <b>Mean</b> the average of all values (sum of values) / (number of values)\n",
    "    - Can be influenced by outliers\n",
    "        - <b>Trimmed Mean</b> the average after removing a certain percentage of outliers; less sensitive to outliers than the mean\n",
    "- <b>Expected value</b> similar to average, but each value weighted by its probability sum of values X their probability)\n",
    "- <b>Median</b> the center, or middle value\n",
    "- <b>Mode</b> most frequently occuring value\n",
    "    - <b>Bi-modal</b> when two values tie for mode\n",
    "\n",
    "### Measures of Spread\n",
    "Allow us to describe how spread out the data set it; gives us an idea of the shape of the data by describing how far apart points tend to be from the middle \n",
    "- <b>Min</b>\n",
    "- <b>Max</b>\n",
    "- <b>Range</b> [max] - [min]\n",
    "- <b>Mean Absolute Deviation</b> average of deviations from a central point (usually the mean)\n",
    "    - <i>we use 100 widgets a day +/- 10%</i>\n",
    "- <b>Quantile</b> The <b>cut point(s)</b> that divide a  probability distribution into equally sized intervals\n",
    "    - To divide our distribution into <b>n</b> equally sized intervals with <b>n - 1</b> cut point(s) or quantiles\n",
    "    - To divide a distribution into two equally sized intervals (with one cut point/quantile), the median is the quantile/cut point\n",
    "    - <b>Quartile</b> 4 intervals with 3 cut points/quartiles:\n",
    "        - Q1: 25% of values are between min and Q1\n",
    "        - Q2: 50% of values are between min and Q2\n",
    "        - Q3: 75% of values are between min and Q3\n",
    "            - <b>Interquartile Range</b> IQR, [Q3] - [Q1] or [75th percentile - 25th percentile] \n",
    "    - <b>Percentile</b> a quantile/cut point, split into 100 intervals\n",
    "- <b>Variance</b> Average squared distance between each value and the mean; (sum(x[i] - mean)^2)/n\n",
    "    - <b>Standard Deviation</b> Square root of the variance; measures absolute variability and can be compared with original values\n",
    "- <b>Skew</b> measure of the asymmetry of the probability distribution of values\n",
    "    - Left / Negative Skewed (mean < median)\n",
    "    - Right Positive Skewed (median > mean)\n",
    "    "
   ]
  }
 ],
 "metadata": {
  "kernelspec": {
   "display_name": "Python 3",
   "language": "python",
   "name": "python3"
  },
  "language_info": {
   "codemirror_mode": {
    "name": "ipython",
    "version": 3
   },
   "file_extension": ".py",
   "mimetype": "text/x-python",
   "name": "python",
   "nbconvert_exporter": "python",
   "pygments_lexer": "ipython3",
   "version": "3.8.8"
  }
 },
 "nbformat": 4,
 "nbformat_minor": 5
}
