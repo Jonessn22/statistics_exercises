{
 "cells": [
  {
   "cell_type": "markdown",
   "id": "d8796476",
   "metadata": {},
   "source": [
    "# statistics_curriculum_notes\n",
    "<b>Descriptive Statistics</b> lets us <i>describe</i> a set of data.<br>\n",
    "The measures discussed focus on a single variable only and do not measure multiple variables at the same time or the interaction/relationship between variables.\n",
    "### Measures of Central Tendency\n",
    "Allow us to describe where the middle, or most mass, of a data set is. \n",
    "- <b>Mean</b> the average of all values (sum of values) / (number of values)\n",
    "    - Can be influenced by outliers\n",
    "        - <b>Trimmed Mean</b> the average after removing a certain percentage of outliers; less sensitive to outliers than the mean\n",
    "- <b>Expected value</b> similar to average, but each value weighted by its probability sum of values X their probability)\n",
    "- <b>Median</b> the center, or middle value\n",
    "- <b>Mode</b> most frequently occuring value\n",
    "    - <b>Bi-modal</b> when two values tie for mode\n",
    "\n",
    "### Measures of Spread\n",
    "Allow us to describe how spread out the data set it; gives us an idea of the shape of the data by describing how far apart points tend to be from the middle \n",
    "- <b>Min</b>\n",
    "- <b>Max</b>\n",
    "- <b>Range</b> [max] - [min]\n",
    "- <b>Mean Absolute Deviation</b> average of deviations from a central point (usually the mean)\n",
    "    - <i>we use 100 widgets a day +/- 10%</i>\n",
    "- <b>Quantile</b> The <b>cut point(s)</b> that divide a  probability distribution into equally sized intervals\n",
    "    - To divide our distribution into <b>n</b> equally sized intervals with <b>n - 1</b> cut point(s) or quantiles\n",
    "    - To divide a distribution into two equally sized intervals (with one cut point/quantile), the median is the quantile/cut point\n",
    "    - <b>Quartile</b> 4 intervals with 3 cut points/quartiles:\n",
    "        - Q1: 25% of values are between min and Q1\n",
    "        - Q2: 50% of values are between min and Q2\n",
    "        - Q3: 75% of values are between min and Q3\n",
    "            - <b>Interquartile Range</b> IQR, [Q3] - [Q1] or [75th percentile - 25th percentile] \n",
    "    - <b>Percentile</b> a quantile/cut point, split into 100 intervals\n",
    "- <b>Variance</b> Average squared distance between each value and the mean; (sum(x[i] - mean)^2)/n\n",
    "    - <b>Standard Deviation</b> Square root of the variance; measures absolute variability and can be compared with original values\n",
    "- <b>Skew</b> measure of the asymmetry of the probability distribution of values\n",
    "    - Left / Negative Skewed (mean < median)\n",
    "    - Right Positive Skewed (median > mean)\n",
    "    "
   ]
  },
  {
   "cell_type": "markdown",
   "id": "84542788",
   "metadata": {},
   "source": [
    "# Simulation\n",
    "np.random Functions\n",
    "- <b>np.random.random</b> generates random number between 0 and 1\n",
    "    - when integer, x is added as a parameter, it generates and array with a length of x\n",
    "- <b>np.random.randint(n)</b> generates random number between 0 and n\n",
    "    - using the <b>size=(x)</b> parameter, you can generate an array with a length of x\n",
    "- <b>np.random.uniform(a, b)</b> generates a random float between a and b\n",
    "- <b>np.random.choice([array])</b> generates random number from list parameter\n",
    "    - using parameter---> size=(a,b) will generate a 2-d array with a rows and b columns\n",
    "- <b>np.random.randn</b> generates numbers from standard normal distribution\n",
    "- <b>np.random.normal</b> generates numbers from normal distribution with a specified mean and std dev\n"
   ]
  },
  {
   "cell_type": "code",
   "execution_count": 3,
   "id": "10948bac",
   "metadata": {},
   "outputs": [],
   "source": [
    "%matplotlib inline\n",
    "import numpy as np\n",
    "import pandas as pd\n",
    "\n",
    "import viz\n",
    "\n",
    "np.random.seed(29)"
   ]
  },
  {
   "cell_type": "code",
   "execution_count": 11,
   "id": "b86d1731",
   "metadata": {},
   "outputs": [
    {
     "data": {
      "text/plain": [
       "0.7266357828275073"
      ]
     },
     "execution_count": 11,
     "metadata": {},
     "output_type": "execute_result"
    }
   ],
   "source": [
    "np.random.random()"
   ]
  },
  {
   "cell_type": "code",
   "execution_count": 21,
   "id": "d7bd2cec",
   "metadata": {},
   "outputs": [
    {
     "data": {
      "text/plain": [
       "array([0.3298106 , 0.47770002, 0.91953687, 0.30753744, 0.9849193 ])"
      ]
     },
     "execution_count": 21,
     "metadata": {},
     "output_type": "execute_result"
    }
   ],
   "source": [
    "np.random.random(5)"
   ]
  },
  {
   "cell_type": "code",
   "execution_count": 14,
   "id": "ed77177d",
   "metadata": {
    "scrolled": true
   },
   "outputs": [
    {
     "data": {
      "text/plain": [
       "array([[5.83773058e-02, 4.09668926e-01],\n",
       "       [6.10672274e-01, 2.55914875e-01],\n",
       "       [2.85671928e-01, 6.84463747e-01],\n",
       "       [8.40919735e-01, 8.09153420e-01],\n",
       "       [6.34957546e-05, 9.23610095e-01]])"
      ]
     },
     "execution_count": 14,
     "metadata": {},
     "output_type": "execute_result"
    }
   ],
   "source": [
    "np.random.rand(5, 2)"
   ]
  },
  {
   "cell_type": "code",
   "execution_count": 8,
   "id": "305ac1d2",
   "metadata": {
    "scrolled": true
   },
   "outputs": [
    {
     "data": {
      "text/plain": [
       "40"
      ]
     },
     "execution_count": 8,
     "metadata": {},
     "output_type": "execute_result"
    }
   ],
   "source": [
    "np.random.randint(100)"
   ]
  },
  {
   "cell_type": "code",
   "execution_count": 10,
   "id": "8238193c",
   "metadata": {},
   "outputs": [
    {
     "data": {
      "text/plain": [
       "array([96, 24, 85, 83])"
      ]
     },
     "execution_count": 10,
     "metadata": {},
     "output_type": "execute_result"
    }
   ],
   "source": [
    "np.random.randint(100, size=(4))"
   ]
  },
  {
   "cell_type": "code",
   "execution_count": 31,
   "id": "c2e3e4db",
   "metadata": {},
   "outputs": [
    {
     "data": {
      "text/plain": [
       "7.32846918372726"
      ]
     },
     "execution_count": 31,
     "metadata": {},
     "output_type": "execute_result"
    }
   ],
   "source": [
    "np.random.uniform(2, 20)"
   ]
  },
  {
   "cell_type": "code",
   "execution_count": 16,
   "id": "b212ed29",
   "metadata": {},
   "outputs": [
    {
     "data": {
      "text/plain": [
       "6"
      ]
     },
     "execution_count": 16,
     "metadata": {},
     "output_type": "execute_result"
    }
   ],
   "source": [
    "np.random.choice([5, 8, 12, 4, 6, 1])"
   ]
  },
  {
   "cell_type": "code",
   "execution_count": 20,
   "id": "5e457481",
   "metadata": {},
   "outputs": [
    {
     "data": {
      "text/plain": [
       "array([[9, 3, 7, 3, 9],\n",
       "       [3, 5, 9, 5, 3],\n",
       "       [7, 9, 3, 7, 9]])"
      ]
     },
     "execution_count": 20,
     "metadata": {},
     "output_type": "execute_result"
    }
   ],
   "source": [
    "np.random.choice([3, 5, 7, 9], size=(3, 5))"
   ]
  },
  {
   "cell_type": "code",
   "execution_count": null,
   "id": "d06f29f4",
   "metadata": {},
   "outputs": [],
   "source": []
  }
 ],
 "metadata": {
  "kernelspec": {
   "display_name": "Python 3",
   "language": "python",
   "name": "python3"
  },
  "language_info": {
   "codemirror_mode": {
    "name": "ipython",
    "version": 3
   },
   "file_extension": ".py",
   "mimetype": "text/x-python",
   "name": "python",
   "nbconvert_exporter": "python",
   "pygments_lexer": "ipython3",
   "version": "3.8.8"
  }
 },
 "nbformat": 4,
 "nbformat_minor": 5
}
