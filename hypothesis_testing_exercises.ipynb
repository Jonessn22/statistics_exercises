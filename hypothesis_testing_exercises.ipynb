{
 "cells": [
  {
   "cell_type": "markdown",
   "id": "bd97f6ba",
   "metadata": {},
   "source": [
    "# hypothesis_testing_exercises"
   ]
  },
  {
   "cell_type": "markdown",
   "id": "99d3b3b0",
   "metadata": {},
   "source": [
    "### For each of the following questions, formulate a null and alternative hypothesis (be as specific as you can be), then give an example of what a true positive, true negative, type I and type II errors would look like. Note that some of the questions are intentionally phrased in a vague way. It is your job to reword these as more precise questions that could be tested."
   ]
  },
  {
   "cell_type": "markdown",
   "id": "f374d5a5",
   "metadata": {},
   "source": [
    "### 1. Has the network latency gone up since we switched internet service providers?"
   ]
  },
  {
   "cell_type": "markdown",
   "id": "9d4ec211",
   "metadata": {},
   "source": [
    "#### H(a)\n",
    "The network lantency has increased since we switched internet service providers.\n",
    "#### H(o)\n",
    "There has been no change in latency since we switched internet service providers. \n",
    "#### True Positive\n",
    "We rejected H(o) [found a change in latency since switching ISPs] and the network latency had actually changed since we switched ISPs. \n",
    "#### True Negative\n",
    "We failed to reject H(o) [found that there was no change in latency since switching ISPs] and the nework latency had not changed since we switched ISPs.\n",
    "#### Type I Error\n",
    "We rejected H(o) [found there was a change in latency since switching ISPs] and there was actually no change in latency since switching ISPs.  \n",
    "#### Type II Error\n",
    "We failed to reject the H(o) [found there was no change in latency since switching ISPs] and there was actually a change in latency since switching ISPs. "
   ]
  },
  {
   "cell_type": "markdown",
   "id": "9f40c2c2",
   "metadata": {},
   "source": [
    "### 2. Is the website redesign any good?"
   ]
  },
  {
   "cell_type": "markdown",
   "id": "1c70ab27",
   "metadata": {},
   "source": [
    "#### H(a)\n",
    "The click through rate on our website has increased since we redesigned the website. \n",
    "#### H(o)\n",
    "There have been no changes in the click through rate since we redesigned the website.\n",
    "#### True Positive\n",
    "We rejected H(o) [found that the click through rate had changed since website redesign] and the click through rate did actually increase since website redesign.\n",
    "#### True Negative\n",
    "We failed to reject H(o) [found that the click through had not changed since website redesign] and the click through rate actually had not changed since website redesign. \n",
    "#### Type I Error\n",
    "We rejected H(o) [found that the click through rate had changed since website redesign] and, in reality, the click through rate had not changed since website redesign.\n",
    "#### Type II Error\n",
    "We failed to reject H(o) [found that"
   ]
  },
  {
   "cell_type": "markdown",
   "id": "c3ef6e13",
   "metadata": {},
   "source": [
    "### 3. Is our television ad driving more sales?"
   ]
  },
  {
   "cell_type": "markdown",
   "id": "d0da9063",
   "metadata": {},
   "source": [
    "#### H(a)\n",
    "\n",
    "#### H(o)\n",
    "\n",
    "#### True Positive\n",
    "\n",
    "#### True Negative\n",
    "\n",
    "#### Type I Error\n",
    "\n",
    "#### Type II Error\n"
   ]
  }
 ],
 "metadata": {
  "kernelspec": {
   "display_name": "Python 3",
   "language": "python",
   "name": "python3"
  },
  "language_info": {
   "codemirror_mode": {
    "name": "ipython",
    "version": 3
   },
   "file_extension": ".py",
   "mimetype": "text/x-python",
   "name": "python",
   "nbconvert_exporter": "python",
   "pygments_lexer": "ipython3",
   "version": "3.8.8"
  }
 },
 "nbformat": 4,
 "nbformat_minor": 5
}
