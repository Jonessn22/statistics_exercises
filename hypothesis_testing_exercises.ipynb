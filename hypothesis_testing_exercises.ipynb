{
 "cells": [
  {
   "cell_type": "markdown",
   "id": "67c00601",
   "metadata": {},
   "source": [
    "# hypothesis_testing_exercises"
   ]
  },
  {
   "cell_type": "markdown",
   "id": "5511d3b2",
   "metadata": {},
   "source": [
    "### For each of the following questions, formulate a null and alternative hypothesis (be as specific as you can be), then give an example of what a true positive, true negative, type I and type II errors would look like. Note that some of the questions are intentionally phrased in a vague way. It is your job to reword these as more precise questions that could be tested."
   ]
  },
  {
   "cell_type": "markdown",
   "id": "f7d5a3f7",
   "metadata": {},
   "source": [
    "### 1. Has the network latency gone up since we switched internet service providers?"
   ]
  },
  {
   "cell_type": "markdown",
   "id": "825c6429",
   "metadata": {},
   "source": [
    "#### H(a)\n",
    "The network lantency increased because we switched internet service providers.\n",
    "#### H(o)\n",
    "There has been no change in latency because we switched internet service providers. \n",
    "#### True Positive\n",
    "We rejected H(o) [our expirement found a change in latency due to switching ISPs] and, in reality, the network latency had actually changed because we switched ISPs. \n",
    "#### True Negative\n",
    "We failed to reject H(o) [our expirement found that there was no change in latency because of switching ISPs] and, in reality the nework latency had not changed because we switched ISPs.\n",
    "#### Type I Error | False Positive\n",
    "We rejected H(o) [our expirement found there was a change in latency due to switching ISPs] but, in reality there was actually no change in latency due to switching ISPs.  \n",
    "#### Type II Error | False Negative\n",
    "We failed to reject the H(o) [our expirement found there was no change in latency due to switching ISPs] but, in reality, there was actually a change in latency due to switching ISPs. "
   ]
  },
  {
   "cell_type": "markdown",
   "id": "75ec9ff5",
   "metadata": {},
   "source": [
    "### 2. Is the website redesign any good?"
   ]
  },
  {
   "cell_type": "markdown",
   "id": "448ed6d0",
   "metadata": {},
   "source": [
    "#### H(a)\n",
    "The click through rate on our website has increased as a result of our redesigned website. \n",
    "#### H(o)\n",
    "There have been no changes in the click through rate as a result of our website.\n",
    "#### True Positive\n",
    "We rejected H(o) [our expirement found that the click through rate changed as a result of our website redesign] and, in reality, our click through rate did actually change as a result of our website redesign.\n",
    "#### True Negative\n",
    "We failed to reject H(o) [our expirement found that the click through rate had not changed as a result of the website redesign] and, in reality, the click through rate actually had not changed as a result of the website redesign. \n",
    "#### Type I Error | False Positive\n",
    "We rejected H(o) [our experiment found that the click through rate had changed as a result of our website redesign] but, in reality, the click through rate had not changed as a result of the website redesign.\n",
    "#### Type II Error | False Negative\n",
    "We failed to reject H(o) [our expirment found that the click through rate had not changed as a result of the website redesign] but, in reality, the click through rate had changed as a result of the website redesign."
   ]
  },
  {
   "cell_type": "markdown",
   "id": "f32f999d",
   "metadata": {},
   "source": [
    "### 3. Is our television ad driving more sales?"
   ]
  },
  {
   "cell_type": "markdown",
   "id": "c84a3f14",
   "metadata": {},
   "source": [
    "#### H(a)\n",
    "Our television ad is increasing our sales.\n",
    "#### H(o)\n",
    "Our television ad has had no effect on our sales.\n",
    "#### True Positive\n",
    "We rejected our H(o) [our expirement found that our television ad did have an effect on sales] and, in reality, our television ad did actually have an effect on sales. \n",
    "#### True Negative\n",
    "We failed to reject our H(o) [our expirement found that our television ad had no effect on our sales] and, in reality, our television ad did not have any affect on our sales.\n",
    "#### Type I Error | False Positive\n",
    "We rejected our H(o) [our expirement found that our television ad did have an affect on our sales] but, in reality, our television ad did not have an affect on sales.\n",
    "#### Type II Error | False Negative\n",
    "We failed to reject our H(o) [our expirement found that our television had no effect on sales] but, in reality, our television ad did have an effect on sales. "
   ]
  },
  {
   "cell_type": "markdown",
   "id": "46e7a92e",
   "metadata": {},
   "source": [
    "# T-Test Exercises"
   ]
  },
  {
   "cell_type": "code",
   "execution_count": 1,
   "id": "5721c292",
   "metadata": {},
   "outputs": [],
   "source": [
    "import scipy\n",
    "\n",
    "%matplotlib inline\n",
    "import matplotlib.pyplot as plt\n",
    "import numpy as np\n",
    "import pandas as pd\n",
    "import viz # curriculum visualization examples"
   ]
  },
  {
   "cell_type": "markdown",
   "id": "fbf027af",
   "metadata": {},
   "source": [
    "### 1. Ace Realty wants to determine whether the average time it takes to sell homes is different for its two offices. A sample of 40 sales from office #1 revealed a mean of 90 days and a standard deviation of 15 days. A sample of 50 sales from office #2 revealed a mean of 100 days and a standard deviation of 20 days. Use a .05 level of significance."
   ]
  },
  {
   "cell_type": "code",
   "execution_count": 2,
   "id": "d1fddb1c",
   "metadata": {},
   "outputs": [],
   "source": [
    "# Comparing the means from two subgroups | TWO SAMPLE T-TEST\n",
    "#     O(1)\n",
    "#         n(1) = 40 sales\n",
    "#         μ(1) = 90 days\n",
    "#         σ(1) = 15 days \n",
    "#     O(2)\n",
    "#         n(2) = 50 sales\n",
    "#         μ(2) = 100 days\n",
    "#         σ(2) = 20 days\n",
    "# α = .05\n",
    "\n",
    "# H(o): There is no difference in mean times it takes to sell homes between O(1) and O(2) \n",
    "# H(a): There is a difference in the mean times it takes to sell homes between O(1) and O(2)\n"
   ]
  },
  {
   "cell_type": "code",
   "execution_count": 3,
   "id": "227775b3",
   "metadata": {},
   "outputs": [
    {
     "data": {
      "text/plain": [
       "Ttest_indResult(statistic=-2.7091418459143854, pvalue=0.00811206270346016)"
      ]
     },
     "execution_count": 3,
     "metadata": {},
     "output_type": "execute_result"
    }
   ],
   "source": [
    "# Office 1\n",
    "n_one = 40 #sales\n",
    "μ_one = 90 #days\n",
    "σ_one = 15 #days \n",
    "\n",
    "# Office 2\n",
    "n_two = 50 #sales\n",
    "μ_two = 100 #days\n",
    "σ_two = 20 #days\n",
    "\n",
    "scipy.stats.ttest_ind_from_stats(μ_one, σ_one, n_one, μ_two, σ_two, n_two, equal_var = False, alternative = 'two-sided')"
   ]
  },
  {
   "cell_type": "code",
   "execution_count": 4,
   "id": "db673dd0",
   "metadata": {},
   "outputs": [
    {
     "name": "stdout",
     "output_type": "stream",
     "text": [
      "We reject the null hypothesis\n"
     ]
    }
   ],
   "source": [
    "t_e1 = 2.7091418459143854\n",
    "\n",
    "p_e1 = 0.00811206270346016\n",
    "\n",
    "α_e1 = .05\n",
    "\n",
    "if p_e1 < α_e1:\n",
    "    print(\"We reject the null hypothesis\")\n",
    "else:\n",
    "    print(\"We fail to reject the null hypothesis\")"
   ]
  },
  {
   "cell_type": "markdown",
   "id": "a121e73a",
   "metadata": {},
   "source": [
    "### 2. Load the mpg dataset and use it to answer the following questions:"
   ]
  },
  {
   "cell_type": "code",
   "execution_count": 5,
   "id": "2b5e79e6",
   "metadata": {},
   "outputs": [],
   "source": [
    "from pydataset import data\n",
    "mpg = data('mpg')"
   ]
  },
  {
   "cell_type": "markdown",
   "id": "e54d49e4",
   "metadata": {},
   "source": [
    "#### 2a. Is there a difference in fuel-efficiency in cars from 2008 vs 1999?"
   ]
  },
  {
   "cell_type": "code",
   "execution_count": 6,
   "id": "07f8fe6b",
   "metadata": {
    "scrolled": true
   },
   "outputs": [
    {
     "data": {
      "text/html": [
       "<div>\n",
       "<style scoped>\n",
       "    .dataframe tbody tr th:only-of-type {\n",
       "        vertical-align: middle;\n",
       "    }\n",
       "\n",
       "    .dataframe tbody tr th {\n",
       "        vertical-align: top;\n",
       "    }\n",
       "\n",
       "    .dataframe thead th {\n",
       "        text-align: right;\n",
       "    }\n",
       "</style>\n",
       "<table border=\"1\" class=\"dataframe\">\n",
       "  <thead>\n",
       "    <tr style=\"text-align: right;\">\n",
       "      <th></th>\n",
       "      <th>manufacturer</th>\n",
       "      <th>model</th>\n",
       "      <th>displ</th>\n",
       "      <th>year</th>\n",
       "      <th>cyl</th>\n",
       "      <th>trans</th>\n",
       "      <th>drv</th>\n",
       "      <th>cty</th>\n",
       "      <th>hwy</th>\n",
       "      <th>fl</th>\n",
       "      <th>class</th>\n",
       "    </tr>\n",
       "  </thead>\n",
       "  <tbody>\n",
       "    <tr>\n",
       "      <th>1</th>\n",
       "      <td>audi</td>\n",
       "      <td>a4</td>\n",
       "      <td>1.8</td>\n",
       "      <td>1999</td>\n",
       "      <td>4</td>\n",
       "      <td>auto(l5)</td>\n",
       "      <td>f</td>\n",
       "      <td>18</td>\n",
       "      <td>29</td>\n",
       "      <td>p</td>\n",
       "      <td>compact</td>\n",
       "    </tr>\n",
       "    <tr>\n",
       "      <th>2</th>\n",
       "      <td>audi</td>\n",
       "      <td>a4</td>\n",
       "      <td>1.8</td>\n",
       "      <td>1999</td>\n",
       "      <td>4</td>\n",
       "      <td>manual(m5)</td>\n",
       "      <td>f</td>\n",
       "      <td>21</td>\n",
       "      <td>29</td>\n",
       "      <td>p</td>\n",
       "      <td>compact</td>\n",
       "    </tr>\n",
       "  </tbody>\n",
       "</table>\n",
       "</div>"
      ],
      "text/plain": [
       "  manufacturer model  displ  year  cyl       trans drv  cty  hwy fl    class\n",
       "1         audi    a4    1.8  1999    4    auto(l5)   f   18   29  p  compact\n",
       "2         audi    a4    1.8  1999    4  manual(m5)   f   21   29  p  compact"
      ]
     },
     "execution_count": 6,
     "metadata": {},
     "output_type": "execute_result"
    }
   ],
   "source": [
    "mpg.head(2)"
   ]
  },
  {
   "cell_type": "code",
   "execution_count": 7,
   "id": "c47ef802",
   "metadata": {},
   "outputs": [],
   "source": [
    "# Comparing two sample means ----> Two Sample T Test ----> Use: scipy.stats.ttest_ind()\n",
    "#     DIfference ---> Two Tailed Test (using whole p, not halved)\n",
    "# --------------------------\n",
    "\n",
    "# Step 1: Establish Hypothesis\n",
    "# H(o): There is no difference in fuel efficiency in cars from 2008 v 1999\n",
    "#     μ_oh_ate == μ_nin_nin\n",
    "# H(a): There is a different in fuel efficiency in cars from 2008 v 1999\n",
    "#     μ_oh_ate != μ_nin_nin\n",
    "\n",
    "# Step 3: Set Significance Level\n",
    "#     α = .05\n",
    "\n",
    "# Step 4: Verify Assumptions\n",
    "#     Normal Distribution? or >= 30 observations?\n",
    "#     Independent Samples?\n",
    "#     Equal variances? (if not set argument equal_var = False)\n",
    "\n",
    "# Step 5: Compute test statistic (t-statistic) and probability (p-value) using--> stats.ttest_ind()\n",
    "\n",
    "\n",
    "# oh_ate --> 2008\n",
    "# nin_nin --> 1999"
   ]
  },
  {
   "cell_type": "code",
   "execution_count": 8,
   "id": "fcdb002d",
   "metadata": {
    "scrolled": true
   },
   "outputs": [],
   "source": [
    "# Step 3\n",
    "α = .05\n",
    "\n",
    "# Step 4\n",
    "len(mpg)\n",
    "mpg.head()\n",
    "mileage = (mpg.cty + mpg.hwy)/2 #to create the variable that calculates avg between cty and hwy\n",
    "mpg['fuel_eff'] = mileage #to create a column to place the variable for the cty and hwy averages"
   ]
  },
  {
   "cell_type": "code",
   "execution_count": 12,
   "id": "392c2332",
   "metadata": {},
   "outputs": [
    {
     "name": "stdout",
     "output_type": "stream",
     "text": [
      "2008 μ: 20.076923076923077\n",
      "2008 var: 24.097480106100797\n",
      "\n",
      "1999 μ: 20.22222222222222\n",
      "1999 var: 27.122605363984682\n"
     ]
    }
   ],
   "source": [
    "from scipy import stats\n",
    "\n",
    "oh_ate = mpg[mpg.year == 2008] #filtered, only 2008 model years\n",
    "μ_oh_ate = oh_ate.fuel_eff.mean() #μ_2008\n",
    "print(f'2008 μ: {μ_oh_ate}') \n",
    "print(f'2008 var: {oh_ate.fuel_eff.var()}')\n",
    "print()\n",
    "\n",
    "nin_nin = mpg[mpg.year == 1999] #filtered, only 1999 model years\n",
    "μ_nin_nin = nin_nin.fuel_eff.mean() #μ_1999\n",
    "print(f'1999 μ: {μ_nin_nin}')\n",
    "print(f'1999 var: {nin_nin.fuel_eff.var()}') #var !=, setting arg equal_var = Fslse"
   ]
  },
  {
   "cell_type": "code",
   "execution_count": 14,
   "id": "d6782b6b",
   "metadata": {},
   "outputs": [
    {
     "name": "stdout",
     "output_type": "stream",
     "text": [
      "t: -0.21960177245940962, p: 0.8263750772060638, α: 0.05\n",
      "\n",
      "fail to reject H(o)\n"
     ]
    }
   ],
   "source": [
    "t, p = stats.ttest_ind(oh_ate.fuel_eff, nin_nin.fuel_eff, equal_var = False)\n",
    "print(f't: {t}, p: {p}, α: {α}')\n",
    "print()\n",
    "\n",
    "#Step : Decide\n",
    "if p < α:\n",
    "    print('reject H(o)')\n",
    "else:\n",
    "    print('fail to reject H(o)')"
   ]
  },
  {
   "cell_type": "markdown",
   "id": "10507c89",
   "metadata": {},
   "source": [
    "#### 2b. Are compact cars more fuel-efficient than the average car?\n"
   ]
  },
  {
   "cell_type": "code",
   "execution_count": 15,
   "id": "dcdb4a7b",
   "metadata": {},
   "outputs": [
    {
     "name": "stdout",
     "output_type": "stream",
     "text": [
      "Compact α: 24.21276595744681\n",
      "Compact var: 12.442876965772433\n",
      "\n",
      "Not Compact α: 19.128342245989305\n",
      "Not Compact var: 23.652794548904602\n"
     ]
    }
   ],
   "source": [
    "# mpg['class'].value_counts()\n",
    "compact = mpg[mpg['class'] == 'compact']\n",
    "print(f'Compact α: {compact.fuel_eff.mean()}')\n",
    "print(f'Compact var: {compact.fuel_eff.var()}')\n",
    "print()\n",
    "\n",
    "not_compact = mpg[mpg['class'] != 'compact']\n",
    "print(f'Not Compact α: {not_compact.fuel_eff.mean()}')\n",
    "print(f'Not Compact var: {not_compact.fuel_eff.var()}') #diff variance, setting arg equal_var = False"
   ]
  },
  {
   "cell_type": "code",
   "execution_count": 27,
   "id": "06ca3775",
   "metadata": {},
   "outputs": [
    {
     "name": "stdout",
     "output_type": "stream",
     "text": [
      "t: 8.128810422808078, p: 1.6018060656123074e-12, α: 0.05\n",
      "\n",
      "Reject H(o)\n"
     ]
    }
   ],
   "source": [
    "t, p = stats.ttest_ind(compact.fuel_eff, not_compact.fuel_eff, equal_var = False)\n",
    "print(f't: {t}, p: {p}, α: {α}')\n",
    "print()\n",
    "\n",
    "if p < α:\n",
    "    print('Reject H(o)') #because p value < α, we reject H(o)\n",
    "else:\n",
    "    print('Fail to Reject H(o)')"
   ]
  },
  {
   "cell_type": "markdown",
   "id": "f8bd49af",
   "metadata": {},
   "source": [
    "#### 2c. Do manual cars get better gas mileage than automatic cars?"
   ]
  },
  {
   "cell_type": "code",
   "execution_count": null,
   "id": "362c55ee",
   "metadata": {},
   "outputs": [],
   "source": []
  }
 ],
 "metadata": {
  "kernelspec": {
   "display_name": "Python 3",
   "language": "python",
   "name": "python3"
  },
  "language_info": {
   "codemirror_mode": {
    "name": "ipython",
    "version": 3
   },
   "file_extension": ".py",
   "mimetype": "text/x-python",
   "name": "python",
   "nbconvert_exporter": "python",
   "pygments_lexer": "ipython3",
   "version": "3.8.8"
  }
 },
 "nbformat": 4,
 "nbformat_minor": 5
}
