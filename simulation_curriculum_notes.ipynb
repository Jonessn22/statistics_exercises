{
 "cells": [
  {
   "cell_type": "markdown",
   "id": "601f17c8",
   "metadata": {},
   "source": [
    "# simulation_notes"
   ]
  },
  {
   "cell_type": "code",
   "execution_count": 1,
   "id": "0b60408c",
   "metadata": {},
   "outputs": [],
   "source": [
    "%matplotlib inline\n",
    "import numpy as np\n",
    "import pandas as pd\n",
    "import viz\n",
    "\n",
    "np.random.seed(29)"
   ]
  },
  {
   "cell_type": "markdown",
   "id": "4cdac8a0",
   "metadata": {},
   "source": [
    "## Generating Random Numbers with Numpy"
   ]
  },
  {
   "cell_type": "markdown",
   "id": "c069aa3e",
   "metadata": {},
   "source": [
    "### np.random.uniform(a, b)\n",
    "generates a floating number between <b>a</b> and <b>b</b>, can take up to one argument --> size array\n",
    "### np.random.random( )\n",
    "generates a floating number between <b>0</b> and <b>1</b>, can take up to one argument --> size array\n",
    "### np.random.randint(n, size = (x) )\n",
    "generates random integer between 0 and n, <i>optional</i> size parameter generate an array with a length of x\n",
    "### np.random.choice( [ sequence ], size = (a, b) )\n",
    "generates a random value from a <b>sequence of values</b>, <i>optional</i> size parameter generate a 2D array with a rows and b columns\n",
    "### np.random.randn( )\n",
    "generates numbers from the standard normal distribution; creates an array of the specified shape and fills it with numbers as per standard normal distribution, can add in arguments to fill 1d, 2d, or 3d\n",
    "### np.random.normal( )\n",
    "generates numbers from a normal distribution with a specified mean and std deviation"
   ]
  },
  {
   "cell_type": "markdown",
   "id": "e720aeae",
   "metadata": {},
   "source": [
    "Keeping track of trial simulations by creating 2 dimensional matrices (arrays), where each <b>row</b> represents a trial and each column represents an instance (or event) in that trial. "
   ]
  },
  {
   "cell_type": "markdown",
   "id": "f7269e9c",
   "metadata": {},
   "source": [
    "## Lambda Syntax\n",
    "- Used to loop a function through sequence/matrix/DataFrame<br>\n",
    "\n",
    "\n",
    "DataFrame.apply(lambda row: row.agg/func( ) [conditional > < =] , axis = 1)"
   ]
  },
  {
   "cell_type": "code",
   "execution_count": null,
   "id": "194e45bf",
   "metadata": {},
   "outputs": [],
   "source": []
  }
 ],
 "metadata": {
  "kernelspec": {
   "display_name": "Python 3",
   "language": "python",
   "name": "python3"
  },
  "language_info": {
   "codemirror_mode": {
    "name": "ipython",
    "version": 3
   },
   "file_extension": ".py",
   "mimetype": "text/x-python",
   "name": "python",
   "nbconvert_exporter": "python",
   "pygments_lexer": "ipython3",
   "version": "3.8.8"
  }
 },
 "nbformat": 4,
 "nbformat_minor": 5
}
