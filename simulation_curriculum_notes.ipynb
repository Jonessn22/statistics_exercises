{
 "cells": [
  {
   "cell_type": "markdown",
   "id": "601f17c8",
   "metadata": {},
   "source": [
    "# simulation_notes"
   ]
  },
  {
   "cell_type": "code",
   "execution_count": 1,
   "id": "0b60408c",
   "metadata": {},
   "outputs": [],
   "source": [
    "%matplotlib inline\n",
    "import numpy as np\n",
    "import pandas as pd\n",
    "import viz\n",
    "\n",
    "np.random.seed(29)"
   ]
  },
  {
   "cell_type": "markdown",
   "id": "4cdac8a0",
   "metadata": {},
   "source": [
    "## Generating Random Numbers with Numpy"
   ]
  },
  {
   "cell_type": "markdown",
   "id": "c069aa3e",
   "metadata": {},
   "source": [
    "### np.random.uniform(a, b)\n",
    "generates a floating number between <b>a</b> and <b>b</b>, can take up to one argument --> size array\n",
    "### np.random.random( )\n",
    "generates a floating number between <b>0</b> and <b>1</b>, can take up to one argument --> size array\n",
    "### np.random.randint(n, size = (x) )\n",
    "generates random integer between 0 and n, <i>optional</i> size parameter generate an array with a length of x\n",
    "### np.random.choice( [ sequence ], size = (a, b) )\n",
    "generates a random value from a <b>sequence of values</b>, <i>optional</i> size parameter generate a 2D array with a rows and b columns\n",
    "### np.random.randn( )\n",
    "generates numbers from the standard normal distribution; creates an array of the specified shape and fills it with numbers as per standard normal distribution, can add in arguments to fill 1d, 2d, or 3d\n",
    "### np.random.normal( )\n",
    "generates numbers from a normal distribution with a specified mean and std deviation"
   ]
  },
  {
   "cell_type": "markdown",
   "id": "e720aeae",
   "metadata": {},
   "source": [
    "Keeping track of trial simulations by creating 2 dimensional matrices (arrays), where each <b>row</b> represents a trial and each column represents an instance (or event) in that trial. "
   ]
  },
  {
   "cell_type": "markdown",
   "id": "f7269e9c",
   "metadata": {},
   "source": [
    "## Lambda Syntax\n",
    "- Used to loop a function through sequence/matrix/DataFrame<br>\n",
    "\n",
    "\n",
    "DataFrame.apply(lambda row: row.agg/func( ) [conditional > < =] , axis = 1)"
   ]
  },
  {
   "cell_type": "code",
   "execution_count": 15,
   "id": "194e45bf",
   "metadata": {
    "scrolled": true
   },
   "outputs": [
    {
     "data": {
      "text/plain": [
       "array([0.8015933 , 0.65943442, 1.39706261, ..., 0.81753662, 0.23766978,\n",
       "       0.68605738])"
      ]
     },
     "execution_count": 15,
     "metadata": {},
     "output_type": "execute_result"
    }
   ],
   "source": [
    "import numpy as np\n",
    "\n",
    "# There's a 30% chance my son takes a nap on any given weekend day. \n",
    "# What is the chance that he takes a nap at least one day this weekend? \n",
    "# What is the probability that he doesn't nap at all?\n",
    "\n",
    "p_nap = .3\n",
    "weekend_days = 2\n",
    "\n",
    "# Generate expirement array\n",
    "naps = np.random.random((100_000, 2))\n",
    "naps\n",
    "\n",
    "# Create boolean where true ---> at least one nap taken\n",
    "nap_days = naps > p_nap\n",
    "nap_days\n",
    "\n",
    "naps.sum(axis = 1)"
   ]
  },
  {
   "cell_type": "code",
   "execution_count": 23,
   "id": "ebc13113",
   "metadata": {},
   "outputs": [
    {
     "data": {
      "text/plain": [
       "0.166332"
      ]
     },
     "execution_count": 23,
     "metadata": {},
     "output_type": "execute_result"
    }
   ],
   "source": [
    "import pandas as pd\n",
    "\n",
    "n_rows = n_trials = 100_0000\n",
    "n_cols = n_dice = 2\n",
    "\n",
    "doubles = np.random.choice([1, 2, 3, 4, 5, 6], n_trials * n_dice). reshape(n_rows, n_cols)\n",
    "doubles_df = pd.DataFrame(doubles)\n",
    "doubles_df.apply(lambda row: row[0] == row[1], axis=1).mean()"
   ]
  },
  {
   "cell_type": "code",
   "execution_count": 33,
   "id": "e15e4eb7",
   "metadata": {},
   "outputs": [
    {
     "name": "stdout",
     "output_type": "stream",
     "text": [
      "0.22088\n",
      "0.85486\n"
     ]
    }
   ],
   "source": [
    "n_rows = n_trials = 100_000\n",
    "n_cols = n_coins = 8\n",
    "\n",
    "flips = np.random.choice([1, 0], n_trials * n_coins).reshape(n_rows, n_cols)\n",
    "flips_df = pd.DataFrame(flips)\n",
    "\n",
    "prob_three = flips_df.apply(lambda row: row.values.sum() == 3, axis = 1).mean()\n",
    "prob_more_three = flips_df.apply(lambda row: row.values.sum() >= 3, axis = 1).mean()\n",
    "\n",
    "print(prob_three)\n",
    "print(prob_more_three)\n"
   ]
  },
  {
   "cell_type": "code",
   "execution_count": null,
   "id": "ffda065f",
   "metadata": {},
   "outputs": [],
   "source": []
  },
  {
   "cell_type": "code",
   "execution_count": null,
   "id": "62b104fd",
   "metadata": {},
   "outputs": [],
   "source": []
  }
 ],
 "metadata": {
  "kernelspec": {
   "display_name": "Python 3",
   "language": "python",
   "name": "python3"
  },
  "language_info": {
   "codemirror_mode": {
    "name": "ipython",
    "version": 3
   },
   "file_extension": ".py",
   "mimetype": "text/x-python",
   "name": "python",
   "nbconvert_exporter": "python",
   "pygments_lexer": "ipython3",
   "version": "3.8.8"
  }
 },
 "nbformat": 4,
 "nbformat_minor": 5
}
