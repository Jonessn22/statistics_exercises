{
 "cells": [
  {
   "cell_type": "markdown",
   "id": "967da315",
   "metadata": {},
   "source": [
    "# chi_square_exercises"
   ]
  },
  {
   "cell_type": "code",
   "execution_count": 1,
   "id": "5c5602fb",
   "metadata": {},
   "outputs": [],
   "source": [
    "import pandas as pd \n",
    "from scipy import stats\n",
    "from pydataset import data"
   ]
  },
  {
   "cell_type": "markdown",
   "id": "a2f16525",
   "metadata": {},
   "source": [
    "## 1. Use the following contingency table to help answer the question of whether using a macbook and being a codeup student are independent of each other."
   ]
  },
  {
   "cell_type": "markdown",
   "id": "2f919bf9",
   "metadata": {},
   "source": [
    "#### $H_o$: Using a macbook and being a codeup student are independent of one another.\n",
    "#### $H_a$: Using a macbook and being a codeup student are not independent of one another. \n",
    "#### Confident Interval: .95\n",
    "#### $\\alpha$: .05"
   ]
  },
  {
   "cell_type": "code",
   "execution_count": 16,
   "id": "efa32003",
   "metadata": {},
   "outputs": [
    {
     "data": {
      "text/html": [
       "<div>\n",
       "<style scoped>\n",
       "    .dataframe tbody tr th:only-of-type {\n",
       "        vertical-align: middle;\n",
       "    }\n",
       "\n",
       "    .dataframe tbody tr th {\n",
       "        vertical-align: top;\n",
       "    }\n",
       "\n",
       "    .dataframe thead th {\n",
       "        text-align: right;\n",
       "    }\n",
       "</style>\n",
       "<table border=\"1\" class=\"dataframe\">\n",
       "  <thead>\n",
       "    <tr style=\"text-align: right;\">\n",
       "      <th></th>\n",
       "      <th>Codeup Student</th>\n",
       "      <th>Not a Codeup Student</th>\n",
       "    </tr>\n",
       "  </thead>\n",
       "  <tbody>\n",
       "    <tr>\n",
       "      <th>Uses a Macbook</th>\n",
       "      <td>49</td>\n",
       "      <td>20</td>\n",
       "    </tr>\n",
       "    <tr>\n",
       "      <th>Doesnt Use a Macbook</th>\n",
       "      <td>1</td>\n",
       "      <td>30</td>\n",
       "    </tr>\n",
       "  </tbody>\n",
       "</table>\n",
       "</div>"
      ],
      "text/plain": [
       "                      Codeup Student  Not a Codeup Student\n",
       "Uses a Macbook                    49                    20\n",
       "Doesnt Use a Macbook               1                    30"
      ]
     },
     "execution_count": 16,
     "metadata": {},
     "output_type": "execute_result"
    }
   ],
   "source": [
    "# Creating the DataFrame\n",
    "index = ['Uses a Macbook' , 'Doesnt Use a Macbook']\n",
    "columns = ['Codeup Student', 'Not a Codeup Student']\n",
    "\n",
    "c_table_mac_codeup = pd.DataFrame([[49, 20], [1, 30]], index = index, columns = columns)\n",
    "c_table_mac_codeup"
   ]
  },
  {
   "cell_type": "code",
   "execution_count": 20,
   "id": "f0b43cf4",
   "metadata": {},
   "outputs": [
    {
     "name": "stdout",
     "output_type": "stream",
     "text": [
      "Observed\n",
      "\n",
      "                      Codeup Student  Not a Codeup Student\n",
      "Uses a Macbook                    49                    20\n",
      "Doesnt Use a Macbook               1                    30\n",
      "---\n",
      "Expected\n",
      "\n",
      "[[34.5 34.5]\n",
      " [15.5 15.5]]\n",
      "---\n",
      "\n",
      "chi^2 = 36.6526\n",
      "p     = 0.0000\n"
     ]
    }
   ],
   "source": [
    "chi2, p, degf, expected = stats.chi2_contingency(c_table_mac_codeup)\n",
    "print('Observed\\n')\n",
    "print(c_table_mac_codeup)\n",
    "print('---\\n')\n",
    "print(f'chi^2 = {chi2:.4f}')\n",
    "\\aint(f'p     = {p:.4f}')"
   ]
  },
  {
   "cell_type": "code",
   "execution_count": 27,
   "id": "498d215e",
   "metadata": {},
   "outputs": [
    {
     "name": "stdout",
     "output_type": "stream",
     "text": [
      "Reject Null Hypothesis\n"
     ]
    }
   ],
   "source": [
    "α = .05\n",
    "\n",
    "if p < α:\n",
    "    print('Reject Null Hypothesis')\n",
    "else:\n",
    "    print('Fail to Reject Null Hypothesis')"
   ]
  },
  {
   "cell_type": "markdown",
   "id": "fcd5c0bf",
   "metadata": {},
   "source": [
    "## 2. Choose another 2 categorical variables from the mpg dataset and perform a \\$chi^2$ contingency table test with them. Be sure to state your null and alternative hypotheses."
   ]
  },
  {
   "cell_type": "code",
   "execution_count": 47,
   "id": "a00a0a45",
   "metadata": {},
   "outputs": [],
   "source": [
    "mpg_df = data('mpg')\n",
    "mpg_df.nunique()\n",
    "\n",
    "index = mpg_df['class']\n",
    "columns = mpg_df.drv\n",
    "\n"
   ]
  },
  {
   "cell_type": "markdown",
   "id": "dfe8929e",
   "metadata": {},
   "source": [
    "#### $H_o$:  The drive and class are independent of one another.\n",
    "#### $H_a$: There is a relationship between drive and class\n"
   ]
  },
  {
   "cell_type": "code",
   "execution_count": 49,
   "id": "7d8fe17d",
   "metadata": {
    "scrolled": false
   },
   "outputs": [
    {
     "data": {
      "text/html": [
       "<div>\n",
       "<style scoped>\n",
       "    .dataframe tbody tr th:only-of-type {\n",
       "        vertical-align: middle;\n",
       "    }\n",
       "\n",
       "    .dataframe tbody tr th {\n",
       "        vertical-align: top;\n",
       "    }\n",
       "\n",
       "    .dataframe thead th {\n",
       "        text-align: right;\n",
       "    }\n",
       "</style>\n",
       "<table border=\"1\" class=\"dataframe\">\n",
       "  <thead>\n",
       "    <tr style=\"text-align: right;\">\n",
       "      <th>drv</th>\n",
       "      <th>4</th>\n",
       "      <th>f</th>\n",
       "      <th>r</th>\n",
       "    </tr>\n",
       "    <tr>\n",
       "      <th>class</th>\n",
       "      <th></th>\n",
       "      <th></th>\n",
       "      <th></th>\n",
       "    </tr>\n",
       "  </thead>\n",
       "  <tbody>\n",
       "    <tr>\n",
       "      <th>2seater</th>\n",
       "      <td>0</td>\n",
       "      <td>0</td>\n",
       "      <td>5</td>\n",
       "    </tr>\n",
       "    <tr>\n",
       "      <th>compact</th>\n",
       "      <td>12</td>\n",
       "      <td>35</td>\n",
       "      <td>0</td>\n",
       "    </tr>\n",
       "    <tr>\n",
       "      <th>midsize</th>\n",
       "      <td>3</td>\n",
       "      <td>38</td>\n",
       "      <td>0</td>\n",
       "    </tr>\n",
       "    <tr>\n",
       "      <th>minivan</th>\n",
       "      <td>0</td>\n",
       "      <td>11</td>\n",
       "      <td>0</td>\n",
       "    </tr>\n",
       "    <tr>\n",
       "      <th>pickup</th>\n",
       "      <td>33</td>\n",
       "      <td>0</td>\n",
       "      <td>0</td>\n",
       "    </tr>\n",
       "    <tr>\n",
       "      <th>subcompact</th>\n",
       "      <td>4</td>\n",
       "      <td>22</td>\n",
       "      <td>9</td>\n",
       "    </tr>\n",
       "    <tr>\n",
       "      <th>suv</th>\n",
       "      <td>51</td>\n",
       "      <td>0</td>\n",
       "      <td>11</td>\n",
       "    </tr>\n",
       "  </tbody>\n",
       "</table>\n",
       "</div>"
      ],
      "text/plain": [
       "drv          4   f   r\n",
       "class                 \n",
       "2seater      0   0   5\n",
       "compact     12  35   0\n",
       "midsize      3  38   0\n",
       "minivan      0  11   0\n",
       "pickup      33   0   0\n",
       "subcompact   4  22   9\n",
       "suv         51   0  11"
      ]
     },
     "execution_count": 49,
     "metadata": {},
     "output_type": "execute_result"
    }
   ],
   "source": [
    "α = .05 #Setting the alpha\n",
    "\n",
    "#Using crosstab to create the DataFrame\n",
    "drv_class_df = pd.crosstab(index, columns)\n",
    "drv_class_df"
   ]
  },
  {
   "cell_type": "code",
   "execution_count": 52,
   "id": "f361a3b1",
   "metadata": {},
   "outputs": [
    {
     "name": "stdout",
     "output_type": "stream",
     "text": [
      "Observed\n",
      "\n",
      "[[ 0  0  5]\n",
      " [12 35  0]\n",
      " [ 3 38  0]\n",
      " [ 0 11  0]\n",
      " [33  0  0]\n",
      " [ 4 22  9]\n",
      " [51  0 11]]\n",
      "---\n",
      "Expected\n",
      "\n",
      "[[ 2.2008547   2.26495726  0.53418803]\n",
      " [20.68803419 21.29059829  5.02136752]\n",
      " [18.04700855 18.57264957  4.38034188]\n",
      " [ 4.84188034  4.98290598  1.17521368]\n",
      " [14.52564103 14.94871795  3.52564103]\n",
      " [15.40598291 15.85470085  3.73931624]\n",
      " [27.29059829 28.08547009  6.62393162]]\n",
      "---\n",
      "\n",
      "chi^2 = 221.6011\n",
      "p     = 0.0000\n"
     ]
    }
   ],
   "source": [
    "#χ^2 Test\n",
    "\n",
    "chi2, p, degf, expected = stats.chi2_contingency(drv_class_df)\n",
    "\n",
    "print('Observed\\n')\n",
    "print(drv_class_df.values)\n",
    "print('---\\nExpected\\n')\n",
    "print(expected)\n",
    "print('---\\n')\n",
    "print(f'chi^2 = {chi2:.4f}')\n",
    "print(f'p     = {p:.4f}')"
   ]
  },
  {
   "cell_type": "markdown",
   "id": "658faf55",
   "metadata": {},
   "source": [
    "# Use the data from the employees database\n",
    "## 3a.  Is an employee's gender independent of whether an employee works in sales or marketing? (only look at current employees)"
   ]
  },
  {
   "cell_type": "code",
   "execution_count": 69,
   "id": "13e0400a",
   "metadata": {
    "scrolled": true
   },
   "outputs": [],
   "source": [
    "from env import host, user, password #importing the data from SQL\n",
    "\n",
    "url = f'mysql+pymysql://{user}:{password}@{host}/employees'\n",
    "\n",
    "#converting a dataframe\n",
    "sql_query = pd.DataFrame(pd.read_sql('select * from employees join departments on emp_no ', url)) \n",
    "\n",
    "employees_df = sql_query\n"
   ]
  },
  {
   "cell_type": "code",
   "execution_count": 73,
   "id": "13014826",
   "metadata": {
    "scrolled": true
   },
   "outputs": [
    {
     "ename": "TypeError",
     "evalue": "unsupported operand type(s) for |: 'str' and 'str'",
     "output_type": "error",
     "traceback": [
      "\u001b[0;31m------------------------------------------------\u001b[0m",
      "\u001b[0;31mTypeError\u001b[0m      Traceback (most recent call last)",
      "\u001b[0;32m<ipython-input-73-cf70bf1a8f18>\u001b[0m in \u001b[0;36m<module>\u001b[0;34m\u001b[0m\n\u001b[1;32m      2\u001b[0m \u001b[0;34m\u001b[0m\u001b[0m\n\u001b[1;32m      3\u001b[0m \u001b[0;31m#breaking out gender and department\u001b[0m\u001b[0;34m\u001b[0m\u001b[0;34m\u001b[0m\u001b[0;34m\u001b[0m\u001b[0m\n\u001b[0;32m----> 4\u001b[0;31m \u001b[0memployees_df\u001b[0m\u001b[0;34m[\u001b[0m\u001b[0memployees_df\u001b[0m\u001b[0;34m.\u001b[0m\u001b[0mdept_name\u001b[0m \u001b[0;34m==\u001b[0m \u001b[0;34m'Sales'\u001b[0m \u001b[0;34m|\u001b[0m \u001b[0;34m'Marketing'\u001b[0m\u001b[0;34m]\u001b[0m\u001b[0;34m\u001b[0m\u001b[0;34m\u001b[0m\u001b[0m\n\u001b[0m",
      "\u001b[0;31mTypeError\u001b[0m: unsupported operand type(s) for |: 'str' and 'str'"
     ]
    }
   ],
   "source": [
    "employees_df.head()\n",
    "\n",
    "#breaking out gender and department\n"
   ]
  },
  {
   "cell_type": "markdown",
   "id": "68ec49c2",
   "metadata": {},
   "source": [
    "## 3b. Is an employee's gender independent of whether or not they are or have been a manager?"
   ]
  },
  {
   "cell_type": "code",
   "execution_count": null,
   "id": "b38274d6",
   "metadata": {},
   "outputs": [],
   "source": []
  }
 ],
 "metadata": {
  "kernelspec": {
   "display_name": "Python 3",
   "language": "python",
   "name": "python3"
  },
  "language_info": {
   "codemirror_mode": {
    "name": "ipython",
    "version": 3
   },
   "file_extension": ".py",
   "mimetype": "text/x-python",
   "name": "python",
   "nbconvert_exporter": "python",
   "pygments_lexer": "ipython3",
   "version": "3.8.8"
  }
 },
 "nbformat": 4,
 "nbformat_minor": 5
}
