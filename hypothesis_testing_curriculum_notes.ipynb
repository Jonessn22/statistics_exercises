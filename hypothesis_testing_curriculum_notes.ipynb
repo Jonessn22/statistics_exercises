{
 "cells": [
  {
   "cell_type": "markdown",
   "id": "f9fc4496",
   "metadata": {},
   "source": [
    "# hypothesis_testing_curriculum_notes"
   ]
  },
  {
   "cell_type": "markdown",
   "id": "9566ebce",
   "metadata": {},
   "source": [
    "## I. Overview\n",
    "Hypothesis Testing is the process of comparing one hypothesis to another, and using statistics to help evaluate the hypothesis. \n",
    "## II. T-Test\n",
    "## III. Correlation\n",
    "## IV. Chi Square\n",
    "## V. More Examples"
   ]
  },
  {
   "cell_type": "markdown",
   "id": "d7fa1bc0",
   "metadata": {},
   "source": [
    "#### H(o)\n",
    "#### H(a)\n",
    "#### $\\alpha$\n",
    "#### 1 - $\\beta$"
   ]
  },
  {
   "cell_type": "markdown",
   "id": "2506b7b3",
   "metadata": {},
   "source": [
    "# Hypothesis Testing Workflow\n",
    "1. Choose the right type of test for your data/question\n",
    "    - Narrow down broad comparison into a <b>single, testable comparison</b>\n",
    "    - Check underlying assumptions\n",
    "        - Is the sample size big enough? => 100<br>\n",
    "        - Are the observations independent?\n",
    "        - Is there a similar variance (range between values) between groups?\n",
    "        - Is the data normally distributed (if quantitative)?\n",
    "    - What type of variable are you working with?\n",
    "2. Set a desired confidence level and form a hypothesis\n",
    "3. Calculate the appropriate test statistics and p-value\n",
    "4. Conclude based on the above statistics"
   ]
  },
  {
   "cell_type": "code",
   "execution_count": null,
   "id": "6ca2126d",
   "metadata": {},
   "outputs": [],
   "source": []
  },
  {
   "cell_type": "code",
   "execution_count": null,
   "id": "cc35104b",
   "metadata": {},
   "outputs": [],
   "source": []
  },
  {
   "cell_type": "code",
   "execution_count": null,
   "id": "5a2410f5",
   "metadata": {},
   "outputs": [],
   "source": []
  },
  {
   "cell_type": "code",
   "execution_count": null,
   "id": "0f145c2d",
   "metadata": {},
   "outputs": [],
   "source": []
  }
 ],
 "metadata": {
  "kernelspec": {
   "display_name": "Python 3",
   "language": "python",
   "name": "python3"
  },
  "language_info": {
   "codemirror_mode": {
    "name": "ipython",
    "version": 3
   },
   "file_extension": ".py",
   "mimetype": "text/x-python",
   "name": "python",
   "nbconvert_exporter": "python",
   "pygments_lexer": "ipython3",
   "version": "3.8.8"
  }
 },
 "nbformat": 4,
 "nbformat_minor": 5
}
