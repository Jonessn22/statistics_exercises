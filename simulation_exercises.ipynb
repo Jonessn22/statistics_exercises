{
 "cells": [
  {
   "cell_type": "markdown",
   "id": "ffa4e606",
   "metadata": {},
   "source": [
    "# simulation_exercises"
   ]
  },
  {
   "cell_type": "markdown",
   "id": "25487ebf",
   "metadata": {},
   "source": [
    "### 1. How likely is it that you roll doubles when rolling two dice?"
   ]
  },
  {
   "cell_type": "code",
   "execution_count": 1,
   "id": "b7e4b41b",
   "metadata": {},
   "outputs": [],
   "source": [
    "%matplotlib inline\n",
    "import numpy as np\n",
    "import pandas as pd\n",
    "\n",
    "import viz\n",
    "\n",
    "np.random.seed(29)"
   ]
  },
  {
   "cell_type": "code",
   "execution_count": 2,
   "id": "421b0a47",
   "metadata": {
    "scrolled": false
   },
   "outputs": [
    {
     "data": {
      "text/html": [
       "<div>\n",
       "<style scoped>\n",
       "    .dataframe tbody tr th:only-of-type {\n",
       "        vertical-align: middle;\n",
       "    }\n",
       "\n",
       "    .dataframe tbody tr th {\n",
       "        vertical-align: top;\n",
       "    }\n",
       "\n",
       "    .dataframe thead th {\n",
       "        text-align: right;\n",
       "    }\n",
       "</style>\n",
       "<table border=\"1\" class=\"dataframe\">\n",
       "  <thead>\n",
       "    <tr style=\"text-align: right;\">\n",
       "      <th></th>\n",
       "      <th>die_one</th>\n",
       "      <th>die_two</th>\n",
       "    </tr>\n",
       "  </thead>\n",
       "  <tbody>\n",
       "    <tr>\n",
       "      <th>0</th>\n",
       "      <td>6</td>\n",
       "      <td>4</td>\n",
       "    </tr>\n",
       "    <tr>\n",
       "      <th>1</th>\n",
       "      <td>5</td>\n",
       "      <td>6</td>\n",
       "    </tr>\n",
       "    <tr>\n",
       "      <th>2</th>\n",
       "      <td>3</td>\n",
       "      <td>1</td>\n",
       "    </tr>\n",
       "  </tbody>\n",
       "</table>\n",
       "</div>"
      ],
      "text/plain": [
       "   die_one  die_two\n",
       "0        6        4\n",
       "1        5        6\n",
       "2        3        1"
      ]
     },
     "execution_count": 2,
     "metadata": {},
     "output_type": "execute_result"
    }
   ],
   "source": [
    "np.random.seed(29)\n",
    "\n",
    "n_trials1 = n_rows1 = 100_000 #number of trials, we are running 100_000 dice roll trials\n",
    "\n",
    "n_dice1 = n_cols1 = 2 #number of instances in each trial, there are 2 dice in each roll\n",
    "\n",
    "#creating 2D array for the simulation\n",
    "rolls1 = np.random.choice([1, 2, 3, 4, 5, 6], n_trials1 * n_dice1).reshape(n_rows1, n_cols1)\n",
    "\n",
    "#turning the 2D array into a DataFrame\n",
    "df_rolls1 = pd.DataFrame(rolls1, columns=[\"die_one\", \"die_two\"])\n",
    "df_rolls1.head(3)"
   ]
  },
  {
   "cell_type": "code",
   "execution_count": 3,
   "id": "694fde37",
   "metadata": {},
   "outputs": [
    {
     "data": {
      "text/plain": [
       "0.16645"
      ]
     },
     "execution_count": 3,
     "metadata": {},
     "output_type": "execute_result"
    }
   ],
   "source": [
    "#creating a boolean series that returns true or false for each trial where the values are equal\n",
    "doubles = df_rolls1.die_one == df_rolls1.die_two\n",
    "\n",
    "#finding the probability of doubles == True by taking the mean of the series\n",
    "doubles.mean()"
   ]
  },
  {
   "cell_type": "markdown",
   "id": "a1f03b52",
   "metadata": {},
   "source": [
    "#### Using a Lambda Function"
   ]
  },
  {
   "cell_type": "code",
   "execution_count": 4,
   "id": "6764f72a",
   "metadata": {
    "scrolled": true
   },
   "outputs": [
    {
     "data": {
      "text/plain": [
       "0.16645"
      ]
     },
     "execution_count": 4,
     "metadata": {},
     "output_type": "execute_result"
    }
   ],
   "source": [
    "#to get the a boolean series of which rows have doubles\n",
    "doubles_lambda = df_rolls1.apply(lambda row: row[0] == row[1], axis = 1)\n",
    "\n",
    "#to get the probability of doubles by taking the mean of the boolean series\n",
    "doubles_lambda.mean()"
   ]
  },
  {
   "cell_type": "markdown",
   "id": "93360d88",
   "metadata": {},
   "source": [
    "### 2a. If you flip 8 coins, what is the probability of getting exactly 3 heads? "
   ]
  },
  {
   "cell_type": "code",
   "execution_count": 5,
   "id": "c5cf89e4",
   "metadata": {},
   "outputs": [
    {
     "data": {
      "text/html": [
       "<div>\n",
       "<style scoped>\n",
       "    .dataframe tbody tr th:only-of-type {\n",
       "        vertical-align: middle;\n",
       "    }\n",
       "\n",
       "    .dataframe tbody tr th {\n",
       "        vertical-align: top;\n",
       "    }\n",
       "\n",
       "    .dataframe thead th {\n",
       "        text-align: right;\n",
       "    }\n",
       "</style>\n",
       "<table border=\"1\" class=\"dataframe\">\n",
       "  <thead>\n",
       "    <tr style=\"text-align: right;\">\n",
       "      <th></th>\n",
       "      <th>0</th>\n",
       "      <th>1</th>\n",
       "      <th>2</th>\n",
       "      <th>3</th>\n",
       "      <th>4</th>\n",
       "      <th>5</th>\n",
       "      <th>6</th>\n",
       "      <th>7</th>\n",
       "    </tr>\n",
       "  </thead>\n",
       "  <tbody>\n",
       "    <tr>\n",
       "      <th>0</th>\n",
       "      <td>0</td>\n",
       "      <td>1</td>\n",
       "      <td>1</td>\n",
       "      <td>0</td>\n",
       "      <td>0</td>\n",
       "      <td>0</td>\n",
       "      <td>1</td>\n",
       "      <td>1</td>\n",
       "    </tr>\n",
       "    <tr>\n",
       "      <th>1</th>\n",
       "      <td>1</td>\n",
       "      <td>1</td>\n",
       "      <td>0</td>\n",
       "      <td>0</td>\n",
       "      <td>0</td>\n",
       "      <td>1</td>\n",
       "      <td>0</td>\n",
       "      <td>0</td>\n",
       "    </tr>\n",
       "    <tr>\n",
       "      <th>2</th>\n",
       "      <td>1</td>\n",
       "      <td>1</td>\n",
       "      <td>0</td>\n",
       "      <td>1</td>\n",
       "      <td>0</td>\n",
       "      <td>1</td>\n",
       "      <td>1</td>\n",
       "      <td>1</td>\n",
       "    </tr>\n",
       "  </tbody>\n",
       "</table>\n",
       "</div>"
      ],
      "text/plain": [
       "   0  1  2  3  4  5  6  7\n",
       "0  0  1  1  0  0  0  1  1\n",
       "1  1  1  0  0  0  1  0  0\n",
       "2  1  1  0  1  0  1  1  1"
      ]
     },
     "execution_count": 5,
     "metadata": {},
     "output_type": "execute_result"
    }
   ],
   "source": [
    "n_trials2 = n_rows2 = 10_0000 #number of trials, there will be 10_000 flips in our simulation\n",
    "\n",
    "n_coins2 = n_cols2 = 8 #number of instances in each trial, there are 8 coins in each flip\n",
    "\n",
    "#creating a 2D array for the simulation\n",
    "    #1 = HEADS\n",
    "    #0 = TAILS\n",
    "flips2 = np.random.choice([1, 0], n_trials2 * n_coins2).reshape(n_rows2, n_cols2)\n",
    "\n",
    "#turning the 2D array into a DataFrame\n",
    "df_flips2 = pd.DataFrame(flips2)\n",
    "df_flips2.head(3)"
   ]
  },
  {
   "cell_type": "code",
   "execution_count": 6,
   "id": "d2f723ca",
   "metadata": {},
   "outputs": [
    {
     "data": {
      "text/plain": [
       "0.21889"
      ]
     },
     "execution_count": 6,
     "metadata": {},
     "output_type": "execute_result"
    }
   ],
   "source": [
    "#2a \n",
    "#using a lambda function to create a pandas series of boolean values where\n",
    "    #row has exactly x3 HEADS (1's)\n",
    "    \n",
    "three_heads = df_flips2.apply(lambda row: row.sum() == 3, axis =1)\n",
    "three_heads\n",
    "\n",
    "#finding the probability of the above by taking the mean of the series\n",
    "three_heads.mean()"
   ]
  },
  {
   "cell_type": "markdown",
   "id": "7d82d5fd",
   "metadata": {},
   "source": [
    "### 2b.What is the probability of getting more than 3 heads?"
   ]
  },
  {
   "cell_type": "code",
   "execution_count": 7,
   "id": "d7195215",
   "metadata": {},
   "outputs": [
    {
     "data": {
      "text/plain": [
       "0.63692"
      ]
     },
     "execution_count": 7,
     "metadata": {},
     "output_type": "execute_result"
    }
   ],
   "source": [
    "#2b\n",
    "#using a lambda function to create a pandas series of boolean values where\n",
    "    #each row has more than x3 HEADS (1's)\n",
    "more_than_three = df_flips2.apply(lambda row: row.sum() > 3, axis =1)\n",
    "more_than_three\n",
    "\n",
    "#finding the probability of the above by taking the mean of the series\n",
    "more_than_three.mean()"
   ]
  },
  {
   "cell_type": "markdown",
   "id": "87190d81",
   "metadata": {},
   "source": [
    "### 3. There are approximitely 3 web development cohorts for every 1 data science cohort at Codeup. \n",
    "- Assuming that Codeup randomly selects an alumni to put on a billboard, \n",
    "- what are the odds that the two billboards I drive past both have data science students on them?"
   ]
  },
  {
   "cell_type": "code",
   "execution_count": 8,
   "id": "b2e17233",
   "metadata": {},
   "outputs": [
    {
     "data": {
      "text/plain": [
       "array([[1, 1],\n",
       "       [1, 1],\n",
       "       [1, 0],\n",
       "       ...,\n",
       "       [1, 1],\n",
       "       [0, 1],\n",
       "       [1, 1]])"
      ]
     },
     "execution_count": 8,
     "metadata": {},
     "output_type": "execute_result"
    }
   ],
   "source": [
    "n_trials3 = n_rows3 = 10_000 #we will drive past 10,000 times\n",
    "\n",
    "n_boards = n_cols3 = 2 #each time we drive past there will be x2 instances or billboards\n",
    "\n",
    "#creating a pandas array for the simulation\n",
    "    #1 = Data Science student\n",
    "    #0 = Web Dev student\n",
    "trips = np.random.choice([1, 0], n_trials3 * n_boards).reshape(n_rows3, n_cols3)\n",
    "trips\n"
   ]
  },
  {
   "cell_type": "code",
   "execution_count": 9,
   "id": "e3143184",
   "metadata": {},
   "outputs": [
    {
     "data": {
      "text/plain": [
       "0.0649"
      ]
     },
     "execution_count": 9,
     "metadata": {},
     "output_type": "execute_result"
    }
   ],
   "source": [
    "p_ds = .25 #probability of a Data Science alumnus being on a board, 1 out of 4 chance\n",
    "\n",
    "n_simulated_trips = n_rows3 = 10_000 #number of simulated trials, we will simulate 10,000 trips\n",
    "\n",
    "n_boards = n_cols3 = 2 #number of boards (instances) in each trial\n",
    "\n",
    "#to get a 2D array will our simulated results\n",
    "simulated_results3 = np.random.random((n_rows3, n_cols3))\n",
    "\n",
    "#to find out which values from our array fall within our p_ds percentile of under .25\n",
    "#create DataFrame\n",
    "ds_alum = simulated_results3 < p_ds\n",
    "df_ds_alum = pd.DataFrame(ds_alum, columns=['billboard_one', 'billboard_two'])\n",
    "df_ds_alum.head(3)\n",
    "\n",
    "#use lambda function to create a series of booleans that filters for [True, True]\n",
    "two_ds_alum = df_ds_alum.apply(lambda row: row.sum() == 2, axis = 1)\n",
    "two_ds_alum\n",
    "\n",
    "#find the probability of the boolean mask filter by taking the mean of the series of booleans\n",
    "two_ds_alum.mean()\n"
   ]
  },
  {
   "cell_type": "markdown",
   "id": "30dde571",
   "metadata": {},
   "source": [
    "### 4. Codeup students buy, on average, 3 poptart packages with a standard deviation of 1.5 a day from the snack vending machine. If on monday the machine is restocked with 17 poptart packages, how likely is it that I will be able to buy some poptarts on Friday afternoon? (Remember, if you have mean and standard deviation, use the np.random.normal)"
   ]
  },
  {
   "cell_type": "code",
   "execution_count": 20,
   "id": "50d9748b",
   "metadata": {},
   "outputs": [
    {
     "data": {
      "text/html": [
       "<div>\n",
       "<style scoped>\n",
       "    .dataframe tbody tr th:only-of-type {\n",
       "        vertical-align: middle;\n",
       "    }\n",
       "\n",
       "    .dataframe tbody tr th {\n",
       "        vertical-align: top;\n",
       "    }\n",
       "\n",
       "    .dataframe thead th {\n",
       "        text-align: right;\n",
       "    }\n",
       "</style>\n",
       "<table border=\"1\" class=\"dataframe\">\n",
       "  <thead>\n",
       "    <tr style=\"text-align: right;\">\n",
       "      <th></th>\n",
       "      <th>0</th>\n",
       "      <th>1</th>\n",
       "      <th>2</th>\n",
       "      <th>3</th>\n",
       "      <th>4</th>\n",
       "    </tr>\n",
       "  </thead>\n",
       "  <tbody>\n",
       "    <tr>\n",
       "      <th>0</th>\n",
       "      <td>4</td>\n",
       "      <td>2</td>\n",
       "      <td>4</td>\n",
       "      <td>2</td>\n",
       "      <td>1</td>\n",
       "    </tr>\n",
       "    <tr>\n",
       "      <th>1</th>\n",
       "      <td>3</td>\n",
       "      <td>5</td>\n",
       "      <td>5</td>\n",
       "      <td>3</td>\n",
       "      <td>0</td>\n",
       "    </tr>\n",
       "  </tbody>\n",
       "</table>\n",
       "</div>"
      ],
      "text/plain": [
       "   0  1  2  3  4\n",
       "0  4  2  4  2  1\n",
       "1  3  5  5  3  0"
      ]
     },
     "execution_count": 20,
     "metadata": {},
     "output_type": "execute_result"
    }
   ],
   "source": [
    "μ = 3 #poptart packages\n",
    "σ = 1.5 #poptart packages\n",
    "\n",
    "n_rows = n_trials = 100_000\n",
    "n_cols = n_days = 5\n",
    "\n",
    "p_tarts = np.random.normal(μ, σ, n_rows * n_cols)\n",
    "\n",
    "p_tarts_df = pd.DataFrame(p_tarts.astype(int).reshape(n_rows, n_cols))\n",
    "p_tarts_df.head(2)"
   ]
  },
  {
   "cell_type": "code",
   "execution_count": 25,
   "id": "37dcf846",
   "metadata": {},
   "outputs": [
    {
     "name": "stdout",
     "output_type": "stream",
     "text": [
      "There is an 87% chance I can get some tarts on Friday\n"
     ]
    }
   ],
   "source": [
    "odds_o_tarts = p_tarts_df.apply(lambda row: row.values.sum() < 17, axis = 1).mean()\n",
    "print(f'There is an {(odds_o_tarts*100).astype(int).round(0)}% chance I can get some tarts on Friday')"
   ]
  },
  {
   "cell_type": "markdown",
   "id": "1282f9db",
   "metadata": {},
   "source": [
    "### 5. Compare Heights\n",
    "- Men have an average height of 178 cm and standard deviation of 8cm.\n",
    "- Women have a mean of 170, sd = 6cm.\n",
    "- Since you have means and standard deviations, you can use np.random.normal to generate observations.\n",
    "- If a man and woman are chosen at random, P(woman taller than man)?"
   ]
  },
  {
   "cell_type": "code",
   "execution_count": 36,
   "id": "dc40106d",
   "metadata": {},
   "outputs": [
    {
     "name": "stdout",
     "output_type": "stream",
     "text": [
      "There is a 21% chance that the woman will be taller\n"
     ]
    }
   ],
   "source": [
    "μ_men = 178\n",
    "σ_men = 8\n",
    "men_height = np.random.normal(μ_men, σ_men, 100_000)\n",
    "\n",
    "μ_women = 170\n",
    "σ_women = 6\n",
    "women_height = np.random.normal(μ_women, σ_women, 100_000)\n",
    "\n",
    "df_whos_taller = pd.DataFrame({\"men_height\": men_height,\n",
    "                              \"women_height\": women_height}\n",
    "    )\n",
    "df_whos_taller['taller_woman'] = df_whos_taller.women_height > df_whos_taller.men_height\n",
    "print(f'There is a {(df_whos_taller.taller_woman.mean()*100).astype(int)}% chance that the woman will be taller')\n",
    "\n"
   ]
  },
  {
   "cell_type": "markdown",
   "id": "83c694b3",
   "metadata": {},
   "source": [
    "### 6. When installing anaconda on a student's computer, there's a 1 in 250 chance that the download is corrupted and the installation fails. "
   ]
  },
  {
   "cell_type": "markdown",
   "id": "ee0575e0",
   "metadata": {},
   "source": [
    "#### What are the odds that after having 50 students download anaconda, no one has an installation issue? \n",
    "#### 100 students? \n",
    "#### What is the probability that we observe an installation issue within the first 150 students that download anaconda?\n",
    "#### How likely is it that 450 students all download anaconda without an issue?"
   ]
  },
  {
   "cell_type": "code",
   "execution_count": 62,
   "id": "7a0a92a2",
   "metadata": {
    "scrolled": false
   },
   "outputs": [
    {
     "name": "stdout",
     "output_type": "stream",
     "text": [
      "P of 50 students downloading Anaconda with no probles is 82%\n",
      "P of 50 students downloading Anaconda at least one probles is 18%\n",
      "P of 100 students downloading Anaconda with no probles is 67%\n",
      "P of 100 students downloading Anaconda at least one probles is 33%\n",
      "P of 150 students downloading Anaconda at least one probles is 45%\n",
      "P of 450 students downloading Anaconda with no probles is 16%\n"
     ]
    }
   ],
   "source": [
    "n_rows = n_trials = 100_000\n",
    "n_cols_50 = n_students_50 = 50\n",
    "n_cols_100 = n_students_100 = 100\n",
    "n_cols_150 = n_students_150 = 150\n",
    "n_cols_450 = n_students_450 = 450\n",
    "\n",
    "issue_range = [False for i in range(1, 250)]\n",
    "issue_range.append(True)\n",
    "\n",
    "installs_df_50 = pd.DataFrame(np.random.choice(issue_range, n_trials * n_students_50).reshape(n_rows, n_cols_50))\n",
    "installs_df_100 = pd.DataFrame(np.random.choice(issue_range, n_trials * n_students_100).reshape(n_rows, n_cols_100))\n",
    "installs_df_150 = pd.DataFrame(np.random.choice(issue_range, n_trials * n_students_150).reshape(n_rows, n_cols_150))\n",
    "installs_df_450 = pd.DataFrame(np.random.choice(issue_range, n_trials * n_students_450).reshape(n_rows, n_cols_450))\n",
    "\n",
    "\n",
    "no_prob_50 = installs_df_50.apply(lambda row: row.values.sum() == 0, axis = 1)\n",
    "print(f'P of 50 students downloading Anaconda with no probles is {(no_prob_50.mean()*100).round(0).astype(int)}%')\n",
    "\n",
    "no_prob_50_1 = installs_df_50.apply(lambda row: row.values.sum() >= 1, axis = 1)\n",
    "print(f'P of 50 students downloading Anaconda at least one probles is {(no_prob_50_1.mean()*100).round(0).astype(int)}%')\n",
    "\n",
    "no_prob_100 = installs_df_100.apply(lambda row: row.values.sum() == 0, axis = 1)\n",
    "print(f'P of 100 students downloading Anaconda with no probles is {(no_prob_100.mean()*100).round(0).astype(int)}%')\n",
    "\n",
    "no_prob_100_1 = installs_df_100.apply(lambda row: row.values.sum() >= 1, axis = 1)\n",
    "print(f'P of 100 students downloading Anaconda at least one probles is {(no_prob_100_1.mean()*100).round(0).astype(int)}%')\n",
    "\n",
    "no_prob_150_1 = installs_df_150.apply(lambda row: row.values.sum() >= 1, axis = 1)\n",
    "print(f'P of 150 students downloading Anaconda at least one probles is {(no_prob_150_1.mean()*100).round(0).astype(int)}%')\n",
    "\n",
    "no_prob_450 = installs_df_450.apply(lambda row: row.values.sum() == 0, axis = 1)\n",
    "print(f'P of 450 students downloading Anaconda with no probles is {(no_prob_450.mean()*100).round(0).astype(int)}%')\n",
    "\n"
   ]
  },
  {
   "cell_type": "markdown",
   "id": "274c88f6",
   "metadata": {},
   "source": [
    "### There's a 70% chance on any given day that there will be at least one food truck at Travis Park. However, you haven't seen a food truck there in 3 days. How unlikely is this?"
   ]
  },
  {
   "cell_type": "code",
   "execution_count": 72,
   "id": "80aadbb3",
   "metadata": {},
   "outputs": [
    {
     "name": "stdout",
     "output_type": "stream",
     "text": [
      "There is a 3% change you will go 3 days wihtou seeing a food truck.\n"
     ]
    }
   ],
   "source": [
    "n_rows = n_trials = 100_000\n",
    "n_cols = n_days = 3\n",
    "\n",
    "sightings = np.random.choice([True, False], n_trials * n_days, p = [.7, .3]).reshape(n_rows, n_cols)\n",
    "sightings_df = pd.DataFrame(sightings)\n",
    "\n",
    "no_truck = sightings_df.apply(lambda row: row.values.sum() == 0, axis = 1).mean()\n",
    "print(f'There is a {(no_truck * 100).round(0).astype(int)}% change you will go 3 days wihtou seeing a food truck.')"
   ]
  },
  {
   "cell_type": "markdown",
   "id": "ea21728b",
   "metadata": {},
   "source": [
    "### 8. If 23 people are in the same room, what are the odds that two of them share a birthday?\n",
    "### What if it's 20 people? \n",
    "### 40?"
   ]
  },
  {
   "cell_type": "code",
   "execution_count": 97,
   "id": "b68db144",
   "metadata": {
    "scrolled": true
   },
   "outputs": [
    {
     "name": "stdout",
     "output_type": "stream",
     "text": [
      "The probability of having 23 people in the same room and, at least 2 share a birthday is 51%.\n",
      "The probability of having 20 people in the same room and, at least 2 share a birthday is 41%.\n",
      "The probability of having 40 people in the same room and, at least 2 share a birthday is 89%.\n"
     ]
    }
   ],
   "source": [
    "n_rows = n_trials = 100_000\n",
    "n_cols_23 = n_people_23 = 23\n",
    "n_cols_20 = n_people_20 = 20\n",
    "n_cols_40 = n_people_40 = 40\n",
    "\n",
    "days_in_year = [day for day in range(364)]\n",
    "\n",
    "birthdays_23 = pd.DataFrame(np.random.choice(days_in_year, n_rows * n_cols_23).reshape(n_rows, n_cols_23))\n",
    "birthdays_23['same_bday'] = birthdays_23.nunique(axis = 1) < n_cols_23\n",
    "print(f'The probability of having 23 people in the same room and, at least 2 share a birthday is {(birthdays_23[\"same_bday\"].mean() * 100).astype(int)}%.')\n",
    "\n",
    "birthdays_20 = pd.DataFrame(np.random.choice(days_in_year, n_rows * n_cols_20).reshape(n_rows, n_cols_20))\n",
    "birthdays_20['same_bday'] = birthdays_20.nunique(axis = 1) < n_cols_20\n",
    "print(f'The probability of having 20 people in the same room and, at least 2 share a birthday is {(birthdays_20[\"same_bday\"].mean() * 100).astype(int)}%.')\n",
    "\n",
    "birthdays_40 = pd.DataFrame(np.random.choice(days_in_year, n_rows * n_cols_40).reshape(n_rows, n_cols_40))\n",
    "birthdays_40['same_bday'] = birthdays_40.nunique(axis = 1) < n_cols_40\n",
    "print(f'The probability of having 40 people in the same room and, at least 2 share a birthday is {(birthdays_40[\"same_bday\"].mean() * 100).astype(int)}%.')"
   ]
  },
  {
   "cell_type": "code",
   "execution_count": null,
   "id": "3e89821c",
   "metadata": {},
   "outputs": [],
   "source": []
  }
 ],
 "metadata": {
  "kernelspec": {
   "display_name": "Python 3",
   "language": "python",
   "name": "python3"
  },
  "language_info": {
   "codemirror_mode": {
    "name": "ipython",
    "version": 3
   },
   "file_extension": ".py",
   "mimetype": "text/x-python",
   "name": "python",
   "nbconvert_exporter": "python",
   "pygments_lexer": "ipython3",
   "version": "3.8.8"
  }
 },
 "nbformat": 4,
 "nbformat_minor": 5
}
