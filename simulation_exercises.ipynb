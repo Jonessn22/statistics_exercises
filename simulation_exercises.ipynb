{
 "cells": [
  {
   "cell_type": "markdown",
   "id": "ffa4e606",
   "metadata": {},
   "source": [
    "# statistics_exercises"
   ]
  },
  {
   "cell_type": "markdown",
   "id": "25487ebf",
   "metadata": {},
   "source": [
    "### 1. How likely is it that you roll doubles when rolling two dice?"
   ]
  },
  {
   "cell_type": "code",
   "execution_count": 2,
   "id": "b7e4b41b",
   "metadata": {},
   "outputs": [],
   "source": [
    "%matplotlib inline\n",
    "import numpy as np\n",
    "import pandas as pd\n",
    "\n",
    "import viz\n",
    "\n",
    "np.random.seed(29)"
   ]
  },
  {
   "cell_type": "code",
   "execution_count": 55,
   "id": "421b0a47",
   "metadata": {
    "scrolled": false
   },
   "outputs": [
    {
     "data": {
      "text/html": [
       "<div>\n",
       "<style scoped>\n",
       "    .dataframe tbody tr th:only-of-type {\n",
       "        vertical-align: middle;\n",
       "    }\n",
       "\n",
       "    .dataframe tbody tr th {\n",
       "        vertical-align: top;\n",
       "    }\n",
       "\n",
       "    .dataframe thead th {\n",
       "        text-align: right;\n",
       "    }\n",
       "</style>\n",
       "<table border=\"1\" class=\"dataframe\">\n",
       "  <thead>\n",
       "    <tr style=\"text-align: right;\">\n",
       "      <th></th>\n",
       "      <th>die_one</th>\n",
       "      <th>die_two</th>\n",
       "    </tr>\n",
       "  </thead>\n",
       "  <tbody>\n",
       "    <tr>\n",
       "      <th>0</th>\n",
       "      <td>6</td>\n",
       "      <td>4</td>\n",
       "    </tr>\n",
       "    <tr>\n",
       "      <th>1</th>\n",
       "      <td>5</td>\n",
       "      <td>6</td>\n",
       "    </tr>\n",
       "    <tr>\n",
       "      <th>2</th>\n",
       "      <td>3</td>\n",
       "      <td>1</td>\n",
       "    </tr>\n",
       "  </tbody>\n",
       "</table>\n",
       "</div>"
      ],
      "text/plain": [
       "   die_one  die_two\n",
       "0        6        4\n",
       "1        5        6\n",
       "2        3        1"
      ]
     },
     "execution_count": 55,
     "metadata": {},
     "output_type": "execute_result"
    }
   ],
   "source": [
    "np.random.seed(29)\n",
    "\n",
    "n_trials1 = n_rows1 = 100_000 #number of trials, we are running 100_000 dice roll trials\n",
    "\n",
    "n_dice1 = n_cols1 = 2 #number of instances in each trial, there are 2 dice in each roll\n",
    "\n",
    "#creating 2D array for the simulation\n",
    "rolls1 = np.random.choice([1, 2, 3, 4, 5, 6], n_trials1 * n_dice1).reshape(n_rows1, n_cols1)\n",
    "\n",
    "#turning the 2D array into a DataFrame\n",
    "df_rolls1 = pd.DataFrame(rolls1, columns=[\"die_one\", \"die_two\"])\n",
    "df_rolls1.head(3)"
   ]
  },
  {
   "cell_type": "code",
   "execution_count": 37,
   "id": "694fde37",
   "metadata": {},
   "outputs": [
    {
     "data": {
      "text/plain": [
       "0.1709"
      ]
     },
     "execution_count": 37,
     "metadata": {},
     "output_type": "execute_result"
    }
   ],
   "source": [
    "#creating a boolean series that returns true or false for each trial where the values are equal\n",
    "doubles = df_rolls1.die_one == df_rolls1.die_two\n",
    "\n",
    "#finding the probability of doubles == True by taking the mean of the series\n",
    "doubles.mean()"
   ]
  },
  {
   "cell_type": "markdown",
   "id": "a1f03b52",
   "metadata": {},
   "source": [
    "#### Using a Lambda Function"
   ]
  },
  {
   "cell_type": "code",
   "execution_count": 59,
   "id": "6764f72a",
   "metadata": {
    "scrolled": true
   },
   "outputs": [
    {
     "data": {
      "text/plain": [
       "0.16645"
      ]
     },
     "execution_count": 59,
     "metadata": {},
     "output_type": "execute_result"
    }
   ],
   "source": [
    "#to get the a boolean series of which rows have doubles\n",
    "doubles_lambda = df_rolls1.apply(lambda row: row[0] == row[1], axis = 1)\n",
    "\n",
    "#to get the probability of doubles by taking the mean of the boolean series\n",
    "doubles_lambda.mean()"
   ]
  },
  {
   "cell_type": "markdown",
   "id": "93360d88",
   "metadata": {},
   "source": [
    "### 2a. If you flip 8 coins, what is the probability of getting exactly 3 heads? "
   ]
  },
  {
   "cell_type": "code",
   "execution_count": 34,
   "id": "c5cf89e4",
   "metadata": {},
   "outputs": [
    {
     "data": {
      "text/html": [
       "<div>\n",
       "<style scoped>\n",
       "    .dataframe tbody tr th:only-of-type {\n",
       "        vertical-align: middle;\n",
       "    }\n",
       "\n",
       "    .dataframe tbody tr th {\n",
       "        vertical-align: top;\n",
       "    }\n",
       "\n",
       "    .dataframe thead th {\n",
       "        text-align: right;\n",
       "    }\n",
       "</style>\n",
       "<table border=\"1\" class=\"dataframe\">\n",
       "  <thead>\n",
       "    <tr style=\"text-align: right;\">\n",
       "      <th></th>\n",
       "      <th>0</th>\n",
       "      <th>1</th>\n",
       "      <th>2</th>\n",
       "      <th>3</th>\n",
       "      <th>4</th>\n",
       "      <th>5</th>\n",
       "      <th>6</th>\n",
       "      <th>7</th>\n",
       "    </tr>\n",
       "  </thead>\n",
       "  <tbody>\n",
       "    <tr>\n",
       "      <th>0</th>\n",
       "      <td>0</td>\n",
       "      <td>1</td>\n",
       "      <td>0</td>\n",
       "      <td>1</td>\n",
       "      <td>0</td>\n",
       "      <td>0</td>\n",
       "      <td>0</td>\n",
       "      <td>1</td>\n",
       "    </tr>\n",
       "    <tr>\n",
       "      <th>1</th>\n",
       "      <td>1</td>\n",
       "      <td>1</td>\n",
       "      <td>0</td>\n",
       "      <td>1</td>\n",
       "      <td>0</td>\n",
       "      <td>0</td>\n",
       "      <td>0</td>\n",
       "      <td>1</td>\n",
       "    </tr>\n",
       "    <tr>\n",
       "      <th>2</th>\n",
       "      <td>0</td>\n",
       "      <td>0</td>\n",
       "      <td>0</td>\n",
       "      <td>0</td>\n",
       "      <td>1</td>\n",
       "      <td>1</td>\n",
       "      <td>0</td>\n",
       "      <td>1</td>\n",
       "    </tr>\n",
       "  </tbody>\n",
       "</table>\n",
       "</div>"
      ],
      "text/plain": [
       "   0  1  2  3  4  5  6  7\n",
       "0  0  1  0  1  0  0  0  1\n",
       "1  1  1  0  1  0  0  0  1\n",
       "2  0  0  0  0  1  1  0  1"
      ]
     },
     "execution_count": 34,
     "metadata": {},
     "output_type": "execute_result"
    }
   ],
   "source": [
    "n_trials2 = n_rows2 = 10_0000 #number of trials, there will be 10_000 flips in our simulation\n",
    "\n",
    "n_coins2 = n_cols2 = 8 #number of instances in each trial, there are 8 coins in each flip\n",
    "\n",
    "#creating a 2D array for the simulation\n",
    "    #1 = HEADS\n",
    "    #0 = TAILS\n",
    "flips2 = np.random.choice([1, 0], n_trials2 * n_coins2).reshape(n_rows2, n_cols2)\n",
    "\n",
    "#turning the 2D array into a DataFrame\n",
    "df_flips2 = pd.DataFrame(flips2)\n",
    "df_flips2.head(3)"
   ]
  },
  {
   "cell_type": "code",
   "execution_count": 33,
   "id": "d2f723ca",
   "metadata": {},
   "outputs": [
    {
     "data": {
      "text/plain": [
       "0.21948"
      ]
     },
     "execution_count": 33,
     "metadata": {},
     "output_type": "execute_result"
    }
   ],
   "source": [
    "#2a \n",
    "#using a lambda function to create a pandas series of boolean values where\n",
    "    #row has exactly x3 HEADS (1's)\n",
    "    \n",
    "three_heads = df_flips2.apply(lambda row: row.sum() == 3, axis =1)\n",
    "three_heads\n",
    "\n",
    "#finding the probability of the above by taking the mean of the series\n",
    "three_heads.mean()"
   ]
  },
  {
   "cell_type": "markdown",
   "id": "7d82d5fd",
   "metadata": {},
   "source": [
    "### 2b.What is the probability of getting more than 3 heads?"
   ]
  },
  {
   "cell_type": "code",
   "execution_count": 32,
   "id": "d7195215",
   "metadata": {},
   "outputs": [
    {
     "data": {
      "text/plain": [
       "0.63539"
      ]
     },
     "execution_count": 32,
     "metadata": {},
     "output_type": "execute_result"
    }
   ],
   "source": [
    "#2b\n",
    "#using a lambda function to create a pandas series of boolean values where\n",
    "    #each row has more than x3 HEADS (1's)\n",
    "more_than_three = df_flips2.apply(lambda row: row.sum() > 3, axis =1)\n",
    "more_than_three\n",
    "\n",
    "#finding the probability of the above by taking the mean of the series\n",
    "more_than_three.mean()"
   ]
  },
  {
   "cell_type": "markdown",
   "id": "87190d81",
   "metadata": {},
   "source": [
    "### 3. There are approximitely 3 web development cohorts for every 1 data science cohort at Codeup. \n",
    "- Assuming that Codeup randomly selects an alumni to put on a billboard, \n",
    "- what are the odds that the two billboards I drive past both have data science students on them?"
   ]
  },
  {
   "cell_type": "code",
   "execution_count": 40,
   "id": "b2e17233",
   "metadata": {},
   "outputs": [
    {
     "data": {
      "text/plain": [
       "array([[0, 0],\n",
       "       [0, 1],\n",
       "       [0, 1],\n",
       "       ...,\n",
       "       [1, 1],\n",
       "       [0, 0],\n",
       "       [0, 0]])"
      ]
     },
     "execution_count": 40,
     "metadata": {},
     "output_type": "execute_result"
    }
   ],
   "source": [
    "n_trials3 = n_rows3 = 10_000 #we will drive past 10,000 times\n",
    "\n",
    "n_boards = n_cols3 = 2 #each time we drive past there will be x2 instances or billboards\n",
    "\n",
    "#creating a pandas array for the simulation\n",
    "    #1 = Data Science student\n",
    "    #0 = Web Dev student\n",
    "trips = np.random.choice([1, 0], n_trials3 * n_boards).reshape(n_rows3, n_cols3)\n",
    "trips\n"
   ]
  },
  {
   "cell_type": "code",
   "execution_count": 54,
   "id": "e3143184",
   "metadata": {},
   "outputs": [
    {
     "data": {
      "text/plain": [
       "0.0616"
      ]
     },
     "execution_count": 54,
     "metadata": {},
     "output_type": "execute_result"
    }
   ],
   "source": [
    "p_ds = .25 #probability of a Data Science alumnus being on a board, 1 out of 4 chance\n",
    "\n",
    "n_simulated_trips = n_rows3 = 10_000 #number of simulated trials, we will simulate 10,000 trips\n",
    "\n",
    "n_boards = n_cols3 = 2 #number of boards (instances) in each trial\n",
    "\n",
    "#to get a 2D array will our simulated results\n",
    "simulated_results3 = np.random.random((n_rows3, n_cols3))\n",
    "\n",
    "#to find out which values from our array fall within our p_ds percentile of under .25\n",
    "#create DataFrame\n",
    "ds_alum = simulated_results3 < p_ds\n",
    "df_ds_alum = pd.DataFrame(ds_alum, columns=['billboard_one', 'billboard_two'])\n",
    "df_ds_alum.head(3)\n",
    "\n",
    "#use lambda function to create a series of booleans that filters for [True, True]\n",
    "two_ds_alum = df_ds_alum.apply(lambda row: row.sum() == 2, axis = 1)\n",
    "two_ds_alum\n",
    "\n",
    "#find the probability of the boolean mask filter by taking the mean of the series of booleans\n",
    "two_ds_alum.mean()\n"
   ]
  },
  {
   "cell_type": "markdown",
   "id": "30dde571",
   "metadata": {},
   "source": [
    "### 4. "
   ]
  },
  {
   "cell_type": "code",
   "execution_count": null,
   "id": "50d9748b",
   "metadata": {},
   "outputs": [],
   "source": []
  }
 ],
 "metadata": {
  "kernelspec": {
   "display_name": "Python 3",
   "language": "python",
   "name": "python3"
  },
  "language_info": {
   "codemirror_mode": {
    "name": "ipython",
    "version": 3
   },
   "file_extension": ".py",
   "mimetype": "text/x-python",
   "name": "python",
   "nbconvert_exporter": "python",
   "pygments_lexer": "ipython3",
   "version": "3.8.8"
  }
 },
 "nbformat": 4,
 "nbformat_minor": 5
}
